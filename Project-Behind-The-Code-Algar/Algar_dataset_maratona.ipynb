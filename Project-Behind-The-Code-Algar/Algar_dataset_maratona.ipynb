{
  "nbformat": 4,
  "nbformat_minor": 0,
  "metadata": {
    "colab": {
      "name": "Algar_dataset_maratona.ipynb",
      "provenance": [],
      "authorship_tag": "ABX9TyOxX+JsvHPtOyplUhZBS/G7",
      "include_colab_link": true
    },
    "kernelspec": {
      "name": "python3",
      "display_name": "Python 3",
      "language": "python"
    }
  },
  "cells": [
    {
      "cell_type": "markdown",
      "metadata": {
        "id": "view-in-github",
        "colab_type": "text"
      },
      "source": [
        "<a href=\"https://colab.research.google.com/github/MaksonViini/Analisando_dados/blob/master/Algar_dataset_maratona.ipynb\" target=\"_parent\"><img src=\"https://colab.research.google.com/assets/colab-badge.svg\" alt=\"Open In Colab\"/></a>"
      ]
    },
    {
      "cell_type": "markdown",
      "metadata": {
        "id": "pVvupGYaFbAG",
        "colab_type": "text"
      },
      "source": [
        "# ***Inicio***"
      ]
    },
    {
      "cell_type": "code",
      "metadata": {
        "id": "nryVwqyvFEH9",
        "colab_type": "code",
        "colab": {
          "base_uri": "https://localhost:8080/",
          "height": 70
        },
        "outputId": "19172296-cf36-434a-96e8-0fed31b426ff"
      },
      "source": [
        "# Importacao das bibliotecas\n",
        "import pandas as pd\n",
        "import numpy as np\n",
        "import matplotlib.pyplot as plt\n",
        "import seaborn as sns"
      ],
      "execution_count": 252,
      "outputs": []
    },
    {
      "cell_type": "code",
      "metadata": {
        "id": "_hHYF6LJFOzG",
        "colab_type": "code",
        "colab": {}
      },
      "source": [
        "# Importacao do pandas data frame\n",
        "df = pd.read_csv('https://raw.githubusercontent.com/maratonadev-br/desafio-4-2020/master/data/train_dataset_algartech.csv')"
      ],
      "execution_count": 253,
      "outputs": []
    },
    {
      "cell_type": "markdown",
      "metadata": {
        "id": "lDCIjiVDFtdd",
        "colab_type": "text"
      },
      "source": [
        "### **Análise exploratória**"
      ]
    },
    {
      "cell_type": "code",
      "metadata": {
        "id": "-8-FQyFpFRR1",
        "colab_type": "code",
        "colab": {
          "base_uri": "https://localhost:8080/",
          "height": 417
        },
        "outputId": "998965b7-bf19-4ec1-efdb-394188de93b3"
      },
      "source": [
        "df.head()"
      ],
      "execution_count": 254,
      "outputs": [
        {
          "output_type": "execute_result",
          "data": {
            "text/plain": [
              "   Idade Local de trabalho  Pontuação teste Departmento  \\\n",
              "0     49           Cliente              279  Engenharia   \n",
              "1     33             Misto             1392  Engenharia   \n",
              "2     27           Cliente              591  Engenharia   \n",
              "3     32             Misto             1005  Engenharia   \n",
              "4     59             Misto             1324  Engenharia   \n",
              "\n",
              "   Distancia casa-trabalho                        Educacao  \\\n",
              "0                        8                  Médio completo   \n",
              "1                        3  Superior incompleto - cursando   \n",
              "2                        2                  Médio completo   \n",
              "3                        2             Superior incompleto   \n",
              "4                        3               Superior completo   \n",
              "\n",
              "                    Area  Possui carro  Subordinado  \\\n",
              "0  Ciências das natureza             1            2   \n",
              "1  Ciências das natureza             1            5   \n",
              "2               Medicina             1            7   \n",
              "3  Ciências das natureza             1            8   \n",
              "4               Medicina             1           10   \n",
              "\n",
              "   Satisfação com o ambiente no emprego atual  ... Horas de trabalho padrão  \\\n",
              "0                                           3  ...                       80   \n",
              "1                                           4  ...                       80   \n",
              "2                                           1  ...                       80   \n",
              "3                                           4  ...                       80   \n",
              "4                                           3  ...                       80   \n",
              "\n",
              "   Beneficios  Anos de experiencia  Horas de treinamento ultimo ano  \\\n",
              "0           1                   10                                3   \n",
              "1           0                    8                                3   \n",
              "2           1                    6                                3   \n",
              "3           0                    8                                2   \n",
              "4           3                   12                                3   \n",
              "\n",
              "  Estilo de vida  Anos na última empresa Anos na posição atual  \\\n",
              "0              3                      10                     7   \n",
              "1              3                       8                     7   \n",
              "2              3                       2                     2   \n",
              "3              2                       7                     7   \n",
              "4              2                       1                     0   \n",
              "\n",
              "   Anos desde última promoção  Anos com a mesma gerência  Contratar  \n",
              "0                           1                          7        Não  \n",
              "1                           3                          0        Não  \n",
              "2                           2                          2        Não  \n",
              "3                           3                          6        Não  \n",
              "4                           0                          0        Não  \n",
              "\n",
              "[5 rows x 35 columns]"
            ],
            "text/html": "<div>\n<style scoped>\n    .dataframe tbody tr th:only-of-type {\n        vertical-align: middle;\n    }\n\n    .dataframe tbody tr th {\n        vertical-align: top;\n    }\n\n    .dataframe thead th {\n        text-align: right;\n    }\n</style>\n<table border=\"1\" class=\"dataframe\">\n  <thead>\n    <tr style=\"text-align: right;\">\n      <th></th>\n      <th>Idade</th>\n      <th>Local de trabalho</th>\n      <th>Pontuação teste</th>\n      <th>Departmento</th>\n      <th>Distancia casa-trabalho</th>\n      <th>Educacao</th>\n      <th>Area</th>\n      <th>Possui carro</th>\n      <th>Subordinado</th>\n      <th>Satisfação com o ambiente no emprego atual</th>\n      <th>...</th>\n      <th>Horas de trabalho padrão</th>\n      <th>Beneficios</th>\n      <th>Anos de experiencia</th>\n      <th>Horas de treinamento ultimo ano</th>\n      <th>Estilo de vida</th>\n      <th>Anos na última empresa</th>\n      <th>Anos na posição atual</th>\n      <th>Anos desde última promoção</th>\n      <th>Anos com a mesma gerência</th>\n      <th>Contratar</th>\n    </tr>\n  </thead>\n  <tbody>\n    <tr>\n      <th>0</th>\n      <td>49</td>\n      <td>Cliente</td>\n      <td>279</td>\n      <td>Engenharia</td>\n      <td>8</td>\n      <td>Médio completo</td>\n      <td>Ciências das natureza</td>\n      <td>1</td>\n      <td>2</td>\n      <td>3</td>\n      <td>...</td>\n      <td>80</td>\n      <td>1</td>\n      <td>10</td>\n      <td>3</td>\n      <td>3</td>\n      <td>10</td>\n      <td>7</td>\n      <td>1</td>\n      <td>7</td>\n      <td>Não</td>\n    </tr>\n    <tr>\n      <th>1</th>\n      <td>33</td>\n      <td>Misto</td>\n      <td>1392</td>\n      <td>Engenharia</td>\n      <td>3</td>\n      <td>Superior incompleto - cursando</td>\n      <td>Ciências das natureza</td>\n      <td>1</td>\n      <td>5</td>\n      <td>4</td>\n      <td>...</td>\n      <td>80</td>\n      <td>0</td>\n      <td>8</td>\n      <td>3</td>\n      <td>3</td>\n      <td>8</td>\n      <td>7</td>\n      <td>3</td>\n      <td>0</td>\n      <td>Não</td>\n    </tr>\n    <tr>\n      <th>2</th>\n      <td>27</td>\n      <td>Cliente</td>\n      <td>591</td>\n      <td>Engenharia</td>\n      <td>2</td>\n      <td>Médio completo</td>\n      <td>Medicina</td>\n      <td>1</td>\n      <td>7</td>\n      <td>1</td>\n      <td>...</td>\n      <td>80</td>\n      <td>1</td>\n      <td>6</td>\n      <td>3</td>\n      <td>3</td>\n      <td>2</td>\n      <td>2</td>\n      <td>2</td>\n      <td>2</td>\n      <td>Não</td>\n    </tr>\n    <tr>\n      <th>3</th>\n      <td>32</td>\n      <td>Misto</td>\n      <td>1005</td>\n      <td>Engenharia</td>\n      <td>2</td>\n      <td>Superior incompleto</td>\n      <td>Ciências das natureza</td>\n      <td>1</td>\n      <td>8</td>\n      <td>4</td>\n      <td>...</td>\n      <td>80</td>\n      <td>0</td>\n      <td>8</td>\n      <td>2</td>\n      <td>2</td>\n      <td>7</td>\n      <td>7</td>\n      <td>3</td>\n      <td>6</td>\n      <td>Não</td>\n    </tr>\n    <tr>\n      <th>4</th>\n      <td>59</td>\n      <td>Misto</td>\n      <td>1324</td>\n      <td>Engenharia</td>\n      <td>3</td>\n      <td>Superior completo</td>\n      <td>Medicina</td>\n      <td>1</td>\n      <td>10</td>\n      <td>3</td>\n      <td>...</td>\n      <td>80</td>\n      <td>3</td>\n      <td>12</td>\n      <td>3</td>\n      <td>2</td>\n      <td>1</td>\n      <td>0</td>\n      <td>0</td>\n      <td>0</td>\n      <td>Não</td>\n    </tr>\n  </tbody>\n</table>\n<p>5 rows × 35 columns</p>\n</div>"
          },
          "metadata": {},
          "execution_count": 254
        }
      ]
    },
    {
      "cell_type": "code",
      "metadata": {
        "id": "5AUbn335FWv1",
        "colab_type": "code",
        "colab": {
          "base_uri": "https://localhost:8080/",
          "height": 34
        },
        "outputId": "4bb19fbf-903a-4d85-baf4-9a165ba1c6c5"
      },
      "source": [
        "# Verificando o tamanho do dataset\n",
        "df.shape"
      ],
      "execution_count": 255,
      "outputs": [
        {
          "output_type": "execute_result",
          "data": {
            "text/plain": [
              "(1370, 35)"
            ]
          },
          "metadata": {},
          "execution_count": 255
        }
      ]
    },
    {
      "cell_type": "code",
      "metadata": {
        "id": "xqPsSad_GE7l",
        "colab_type": "code",
        "colab": {
          "base_uri": "https://localhost:8080/",
          "height": 34
        },
        "outputId": "b0b89b26-01c5-4630-953f-7c9ddcd02b43"
      },
      "source": [
        "df.duplicated().sum() # Verificando dados duplicados"
      ],
      "execution_count": 256,
      "outputs": [
        {
          "output_type": "execute_result",
          "data": {
            "text/plain": [
              "0"
            ]
          },
          "metadata": {},
          "execution_count": 256
        }
      ]
    },
    {
      "cell_type": "code",
      "metadata": {
        "id": "3vr9CtVnGL0l",
        "colab_type": "code",
        "colab": {
          "base_uri": "https://localhost:8080/",
          "height": 296
        },
        "outputId": "c420a575-fca1-4510-9795-c855bc4bca29"
      },
      "source": [
        "sns.barplot(df['Idade'],df['Contratar'])"
      ],
      "execution_count": 257,
      "outputs": [
        {
          "output_type": "execute_result",
          "data": {
            "text/plain": [
              "<AxesSubplot:xlabel='Idade', ylabel='Contratar'>"
            ]
          },
          "metadata": {},
          "execution_count": 257
        },
        {
          "output_type": "display_data",
          "data": {
            "text/plain": "<Figure size 432x288 with 1 Axes>",
            "image/svg+xml": "<?xml version=\"1.0\" encoding=\"utf-8\" standalone=\"no\"?>\r\n<!DOCTYPE svg PUBLIC \"-//W3C//DTD SVG 1.1//EN\"\r\n  \"http://www.w3.org/Graphics/SVG/1.1/DTD/svg11.dtd\">\r\n<!-- Created with matplotlib (https://matplotlib.org/) -->\r\n<svg height=\"262.19625pt\" version=\"1.1\" viewBox=\"0 0 395.760846 262.19625\" width=\"395.760846pt\" xmlns=\"http://www.w3.org/2000/svg\" xmlns:xlink=\"http://www.w3.org/1999/xlink\">\r\n <metadata>\r\n  <rdf:RDF xmlns:cc=\"http://creativecommons.org/ns#\" xmlns:dc=\"http://purl.org/dc/elements/1.1/\" xmlns:rdf=\"http://www.w3.org/1999/02/22-rdf-syntax-ns#\">\r\n   <cc:Work>\r\n    <dc:type rdf:resource=\"http://purl.org/dc/dcmitype/StillImage\"/>\r\n    <dc:date>2021-02-19T17:03:49.322530</dc:date>\r\n    <dc:format>image/svg+xml</dc:format>\r\n    <dc:creator>\r\n     <cc:Agent>\r\n      <dc:title>Matplotlib v3.3.3, https://matplotlib.org/</dc:title>\r\n     </cc:Agent>\r\n    </dc:creator>\r\n   </cc:Work>\r\n  </rdf:RDF>\r\n </metadata>\r\n <defs>\r\n  <style type=\"text/css\">*{stroke-linecap:butt;stroke-linejoin:round;}</style>\r\n </defs>\r\n <g id=\"figure_1\">\r\n  <g id=\"patch_1\">\r\n   <path d=\"M 0 262.19625 \r\nL 395.760846 262.19625 \r\nL 395.760846 0 \r\nL 0 0 \r\nz\r\n\" style=\"fill:none;\"/>\r\n  </g>\r\n  <g id=\"axes_1\">\r\n   <g id=\"patch_2\">\r\n    <path d=\"M 47.60625 224.64 \r\nL 382.40625 224.64 \r\nL 382.40625 7.2 \r\nL 47.60625 7.2 \r\nz\r\n\" style=\"fill:#ffffff;\"/>\r\n   </g>\r\n   <g id=\"patch_3\">\r\n    <path clip-path=\"url(#p897688ed8a)\" d=\"M 47.60625 18.072 \r\nL 362.337266 18.072 \r\nL 362.337266 105.048 \r\nL 47.60625 105.048 \r\nz\r\n\" style=\"fill:#3274a1;\"/>\r\n   </g>\r\n   <g id=\"patch_4\">\r\n    <path clip-path=\"url(#p897688ed8a)\" d=\"M 47.60625 126.792 \r\nL 326.825097 126.792 \r\nL 326.825097 213.768 \r\nL 47.60625 213.768 \r\nz\r\n\" style=\"fill:#e1812c;\"/>\r\n   </g>\r\n   <g id=\"matplotlib.axis_1\">\r\n    <g id=\"xtick_1\">\r\n     <g id=\"line2d_1\">\r\n      <defs>\r\n       <path d=\"M 0 0 \r\nL 0 3.5 \r\n\" id=\"m96943e85c5\" style=\"stroke:#000000;stroke-width:0.8;\"/>\r\n      </defs>\r\n      <g>\r\n       <use style=\"stroke:#000000;stroke-width:0.8;\" x=\"47.60625\" xlink:href=\"#m96943e85c5\" y=\"224.64\"/>\r\n      </g>\r\n     </g>\r\n     <g id=\"text_1\">\r\n      <!-- 0 -->\r\n      <g transform=\"translate(44.425 239.238437)scale(0.1 -0.1)\">\r\n       <defs>\r\n        <path d=\"M 31.78125 66.40625 \r\nQ 24.171875 66.40625 20.328125 58.90625 \r\nQ 16.5 51.421875 16.5 36.375 \r\nQ 16.5 21.390625 20.328125 13.890625 \r\nQ 24.171875 6.390625 31.78125 6.390625 \r\nQ 39.453125 6.390625 43.28125 13.890625 \r\nQ 47.125 21.390625 47.125 36.375 \r\nQ 47.125 51.421875 43.28125 58.90625 \r\nQ 39.453125 66.40625 31.78125 66.40625 \r\nz\r\nM 31.78125 74.21875 \r\nQ 44.046875 74.21875 50.515625 64.515625 \r\nQ 56.984375 54.828125 56.984375 36.375 \r\nQ 56.984375 17.96875 50.515625 8.265625 \r\nQ 44.046875 -1.421875 31.78125 -1.421875 \r\nQ 19.53125 -1.421875 13.0625 8.265625 \r\nQ 6.59375 17.96875 6.59375 36.375 \r\nQ 6.59375 54.828125 13.0625 64.515625 \r\nQ 19.53125 74.21875 31.78125 74.21875 \r\nz\r\n\" id=\"DejaVuSans-48\"/>\r\n       </defs>\r\n       <use xlink:href=\"#DejaVuSans-48\"/>\r\n      </g>\r\n     </g>\r\n    </g>\r\n    <g id=\"xtick_2\">\r\n     <g id=\"line2d_2\">\r\n      <g>\r\n       <use style=\"stroke:#000000;stroke-width:0.8;\" x=\"89.430262\" xlink:href=\"#m96943e85c5\" y=\"224.64\"/>\r\n      </g>\r\n     </g>\r\n     <g id=\"text_2\">\r\n      <!-- 5 -->\r\n      <g transform=\"translate(86.249012 239.238437)scale(0.1 -0.1)\">\r\n       <defs>\r\n        <path d=\"M 10.796875 72.90625 \r\nL 49.515625 72.90625 \r\nL 49.515625 64.59375 \r\nL 19.828125 64.59375 \r\nL 19.828125 46.734375 \r\nQ 21.96875 47.46875 24.109375 47.828125 \r\nQ 26.265625 48.1875 28.421875 48.1875 \r\nQ 40.625 48.1875 47.75 41.5 \r\nQ 54.890625 34.8125 54.890625 23.390625 \r\nQ 54.890625 11.625 47.5625 5.09375 \r\nQ 40.234375 -1.421875 26.90625 -1.421875 \r\nQ 22.3125 -1.421875 17.546875 -0.640625 \r\nQ 12.796875 0.140625 7.71875 1.703125 \r\nL 7.71875 11.625 \r\nQ 12.109375 9.234375 16.796875 8.0625 \r\nQ 21.484375 6.890625 26.703125 6.890625 \r\nQ 35.15625 6.890625 40.078125 11.328125 \r\nQ 45.015625 15.765625 45.015625 23.390625 \r\nQ 45.015625 31 40.078125 35.4375 \r\nQ 35.15625 39.890625 26.703125 39.890625 \r\nQ 22.75 39.890625 18.8125 39.015625 \r\nQ 14.890625 38.140625 10.796875 36.28125 \r\nz\r\n\" id=\"DejaVuSans-53\"/>\r\n       </defs>\r\n       <use xlink:href=\"#DejaVuSans-53\"/>\r\n      </g>\r\n     </g>\r\n    </g>\r\n    <g id=\"xtick_3\">\r\n     <g id=\"line2d_3\">\r\n      <g>\r\n       <use style=\"stroke:#000000;stroke-width:0.8;\" x=\"131.254274\" xlink:href=\"#m96943e85c5\" y=\"224.64\"/>\r\n      </g>\r\n     </g>\r\n     <g id=\"text_3\">\r\n      <!-- 10 -->\r\n      <g transform=\"translate(124.891774 239.238437)scale(0.1 -0.1)\">\r\n       <defs>\r\n        <path d=\"M 12.40625 8.296875 \r\nL 28.515625 8.296875 \r\nL 28.515625 63.921875 \r\nL 10.984375 60.40625 \r\nL 10.984375 69.390625 \r\nL 28.421875 72.90625 \r\nL 38.28125 72.90625 \r\nL 38.28125 8.296875 \r\nL 54.390625 8.296875 \r\nL 54.390625 0 \r\nL 12.40625 0 \r\nz\r\n\" id=\"DejaVuSans-49\"/>\r\n       </defs>\r\n       <use xlink:href=\"#DejaVuSans-49\"/>\r\n       <use x=\"63.623047\" xlink:href=\"#DejaVuSans-48\"/>\r\n      </g>\r\n     </g>\r\n    </g>\r\n    <g id=\"xtick_4\">\r\n     <g id=\"line2d_4\">\r\n      <g>\r\n       <use style=\"stroke:#000000;stroke-width:0.8;\" x=\"173.078286\" xlink:href=\"#m96943e85c5\" y=\"224.64\"/>\r\n      </g>\r\n     </g>\r\n     <g id=\"text_4\">\r\n      <!-- 15 -->\r\n      <g transform=\"translate(166.715786 239.238437)scale(0.1 -0.1)\">\r\n       <use xlink:href=\"#DejaVuSans-49\"/>\r\n       <use x=\"63.623047\" xlink:href=\"#DejaVuSans-53\"/>\r\n      </g>\r\n     </g>\r\n    </g>\r\n    <g id=\"xtick_5\">\r\n     <g id=\"line2d_5\">\r\n      <g>\r\n       <use style=\"stroke:#000000;stroke-width:0.8;\" x=\"214.902298\" xlink:href=\"#m96943e85c5\" y=\"224.64\"/>\r\n      </g>\r\n     </g>\r\n     <g id=\"text_5\">\r\n      <!-- 20 -->\r\n      <g transform=\"translate(208.539798 239.238437)scale(0.1 -0.1)\">\r\n       <defs>\r\n        <path d=\"M 19.1875 8.296875 \r\nL 53.609375 8.296875 \r\nL 53.609375 0 \r\nL 7.328125 0 \r\nL 7.328125 8.296875 \r\nQ 12.9375 14.109375 22.625 23.890625 \r\nQ 32.328125 33.6875 34.8125 36.53125 \r\nQ 39.546875 41.84375 41.421875 45.53125 \r\nQ 43.3125 49.21875 43.3125 52.78125 \r\nQ 43.3125 58.59375 39.234375 62.25 \r\nQ 35.15625 65.921875 28.609375 65.921875 \r\nQ 23.96875 65.921875 18.8125 64.3125 \r\nQ 13.671875 62.703125 7.8125 59.421875 \r\nL 7.8125 69.390625 \r\nQ 13.765625 71.78125 18.9375 73 \r\nQ 24.125 74.21875 28.421875 74.21875 \r\nQ 39.75 74.21875 46.484375 68.546875 \r\nQ 53.21875 62.890625 53.21875 53.421875 \r\nQ 53.21875 48.921875 51.53125 44.890625 \r\nQ 49.859375 40.875 45.40625 35.40625 \r\nQ 44.1875 33.984375 37.640625 27.21875 \r\nQ 31.109375 20.453125 19.1875 8.296875 \r\nz\r\n\" id=\"DejaVuSans-50\"/>\r\n       </defs>\r\n       <use xlink:href=\"#DejaVuSans-50\"/>\r\n       <use x=\"63.623047\" xlink:href=\"#DejaVuSans-48\"/>\r\n      </g>\r\n     </g>\r\n    </g>\r\n    <g id=\"xtick_6\">\r\n     <g id=\"line2d_6\">\r\n      <g>\r\n       <use style=\"stroke:#000000;stroke-width:0.8;\" x=\"256.72631\" xlink:href=\"#m96943e85c5\" y=\"224.64\"/>\r\n      </g>\r\n     </g>\r\n     <g id=\"text_6\">\r\n      <!-- 25 -->\r\n      <g transform=\"translate(250.36381 239.238437)scale(0.1 -0.1)\">\r\n       <use xlink:href=\"#DejaVuSans-50\"/>\r\n       <use x=\"63.623047\" xlink:href=\"#DejaVuSans-53\"/>\r\n      </g>\r\n     </g>\r\n    </g>\r\n    <g id=\"xtick_7\">\r\n     <g id=\"line2d_7\">\r\n      <g>\r\n       <use style=\"stroke:#000000;stroke-width:0.8;\" x=\"298.550322\" xlink:href=\"#m96943e85c5\" y=\"224.64\"/>\r\n      </g>\r\n     </g>\r\n     <g id=\"text_7\">\r\n      <!-- 30 -->\r\n      <g transform=\"translate(292.187822 239.238437)scale(0.1 -0.1)\">\r\n       <defs>\r\n        <path d=\"M 40.578125 39.3125 \r\nQ 47.65625 37.796875 51.625 33 \r\nQ 55.609375 28.21875 55.609375 21.1875 \r\nQ 55.609375 10.40625 48.1875 4.484375 \r\nQ 40.765625 -1.421875 27.09375 -1.421875 \r\nQ 22.515625 -1.421875 17.65625 -0.515625 \r\nQ 12.796875 0.390625 7.625 2.203125 \r\nL 7.625 11.71875 \r\nQ 11.71875 9.328125 16.59375 8.109375 \r\nQ 21.484375 6.890625 26.8125 6.890625 \r\nQ 36.078125 6.890625 40.9375 10.546875 \r\nQ 45.796875 14.203125 45.796875 21.1875 \r\nQ 45.796875 27.640625 41.28125 31.265625 \r\nQ 36.765625 34.90625 28.71875 34.90625 \r\nL 20.21875 34.90625 \r\nL 20.21875 43.015625 \r\nL 29.109375 43.015625 \r\nQ 36.375 43.015625 40.234375 45.921875 \r\nQ 44.09375 48.828125 44.09375 54.296875 \r\nQ 44.09375 59.90625 40.109375 62.90625 \r\nQ 36.140625 65.921875 28.71875 65.921875 \r\nQ 24.65625 65.921875 20.015625 65.03125 \r\nQ 15.375 64.15625 9.8125 62.3125 \r\nL 9.8125 71.09375 \r\nQ 15.4375 72.65625 20.34375 73.4375 \r\nQ 25.25 74.21875 29.59375 74.21875 \r\nQ 40.828125 74.21875 47.359375 69.109375 \r\nQ 53.90625 64.015625 53.90625 55.328125 \r\nQ 53.90625 49.265625 50.4375 45.09375 \r\nQ 46.96875 40.921875 40.578125 39.3125 \r\nz\r\n\" id=\"DejaVuSans-51\"/>\r\n       </defs>\r\n       <use xlink:href=\"#DejaVuSans-51\"/>\r\n       <use x=\"63.623047\" xlink:href=\"#DejaVuSans-48\"/>\r\n      </g>\r\n     </g>\r\n    </g>\r\n    <g id=\"xtick_8\">\r\n     <g id=\"line2d_8\">\r\n      <g>\r\n       <use style=\"stroke:#000000;stroke-width:0.8;\" x=\"340.374334\" xlink:href=\"#m96943e85c5\" y=\"224.64\"/>\r\n      </g>\r\n     </g>\r\n     <g id=\"text_8\">\r\n      <!-- 35 -->\r\n      <g transform=\"translate(334.011834 239.238437)scale(0.1 -0.1)\">\r\n       <use xlink:href=\"#DejaVuSans-51\"/>\r\n       <use x=\"63.623047\" xlink:href=\"#DejaVuSans-53\"/>\r\n      </g>\r\n     </g>\r\n    </g>\r\n    <g id=\"xtick_9\">\r\n     <g id=\"line2d_9\">\r\n      <g>\r\n       <use style=\"stroke:#000000;stroke-width:0.8;\" x=\"382.198346\" xlink:href=\"#m96943e85c5\" y=\"224.64\"/>\r\n      </g>\r\n     </g>\r\n     <g id=\"text_9\">\r\n      <!-- 40 -->\r\n      <g transform=\"translate(375.835846 239.238437)scale(0.1 -0.1)\">\r\n       <defs>\r\n        <path d=\"M 37.796875 64.3125 \r\nL 12.890625 25.390625 \r\nL 37.796875 25.390625 \r\nz\r\nM 35.203125 72.90625 \r\nL 47.609375 72.90625 \r\nL 47.609375 25.390625 \r\nL 58.015625 25.390625 \r\nL 58.015625 17.1875 \r\nL 47.609375 17.1875 \r\nL 47.609375 0 \r\nL 37.796875 0 \r\nL 37.796875 17.1875 \r\nL 4.890625 17.1875 \r\nL 4.890625 26.703125 \r\nz\r\n\" id=\"DejaVuSans-52\"/>\r\n       </defs>\r\n       <use xlink:href=\"#DejaVuSans-52\"/>\r\n       <use x=\"63.623047\" xlink:href=\"#DejaVuSans-48\"/>\r\n      </g>\r\n     </g>\r\n    </g>\r\n    <g id=\"text_10\">\r\n     <!-- Idade -->\r\n     <g transform=\"translate(201.042188 252.916562)scale(0.1 -0.1)\">\r\n      <defs>\r\n       <path d=\"M 9.8125 72.90625 \r\nL 19.671875 72.90625 \r\nL 19.671875 0 \r\nL 9.8125 0 \r\nz\r\n\" id=\"DejaVuSans-73\"/>\r\n       <path d=\"M 45.40625 46.390625 \r\nL 45.40625 75.984375 \r\nL 54.390625 75.984375 \r\nL 54.390625 0 \r\nL 45.40625 0 \r\nL 45.40625 8.203125 \r\nQ 42.578125 3.328125 38.25 0.953125 \r\nQ 33.9375 -1.421875 27.875 -1.421875 \r\nQ 17.96875 -1.421875 11.734375 6.484375 \r\nQ 5.515625 14.40625 5.515625 27.296875 \r\nQ 5.515625 40.1875 11.734375 48.09375 \r\nQ 17.96875 56 27.875 56 \r\nQ 33.9375 56 38.25 53.625 \r\nQ 42.578125 51.265625 45.40625 46.390625 \r\nz\r\nM 14.796875 27.296875 \r\nQ 14.796875 17.390625 18.875 11.75 \r\nQ 22.953125 6.109375 30.078125 6.109375 \r\nQ 37.203125 6.109375 41.296875 11.75 \r\nQ 45.40625 17.390625 45.40625 27.296875 \r\nQ 45.40625 37.203125 41.296875 42.84375 \r\nQ 37.203125 48.484375 30.078125 48.484375 \r\nQ 22.953125 48.484375 18.875 42.84375 \r\nQ 14.796875 37.203125 14.796875 27.296875 \r\nz\r\n\" id=\"DejaVuSans-100\"/>\r\n       <path d=\"M 34.28125 27.484375 \r\nQ 23.390625 27.484375 19.1875 25 \r\nQ 14.984375 22.515625 14.984375 16.5 \r\nQ 14.984375 11.71875 18.140625 8.90625 \r\nQ 21.296875 6.109375 26.703125 6.109375 \r\nQ 34.1875 6.109375 38.703125 11.40625 \r\nQ 43.21875 16.703125 43.21875 25.484375 \r\nL 43.21875 27.484375 \r\nz\r\nM 52.203125 31.203125 \r\nL 52.203125 0 \r\nL 43.21875 0 \r\nL 43.21875 8.296875 \r\nQ 40.140625 3.328125 35.546875 0.953125 \r\nQ 30.953125 -1.421875 24.3125 -1.421875 \r\nQ 15.921875 -1.421875 10.953125 3.296875 \r\nQ 6 8.015625 6 15.921875 \r\nQ 6 25.140625 12.171875 29.828125 \r\nQ 18.359375 34.515625 30.609375 34.515625 \r\nL 43.21875 34.515625 \r\nL 43.21875 35.40625 \r\nQ 43.21875 41.609375 39.140625 45 \r\nQ 35.0625 48.390625 27.6875 48.390625 \r\nQ 23 48.390625 18.546875 47.265625 \r\nQ 14.109375 46.140625 10.015625 43.890625 \r\nL 10.015625 52.203125 \r\nQ 14.9375 54.109375 19.578125 55.046875 \r\nQ 24.21875 56 28.609375 56 \r\nQ 40.484375 56 46.34375 49.84375 \r\nQ 52.203125 43.703125 52.203125 31.203125 \r\nz\r\n\" id=\"DejaVuSans-97\"/>\r\n       <path d=\"M 56.203125 29.59375 \r\nL 56.203125 25.203125 \r\nL 14.890625 25.203125 \r\nQ 15.484375 15.921875 20.484375 11.0625 \r\nQ 25.484375 6.203125 34.421875 6.203125 \r\nQ 39.59375 6.203125 44.453125 7.46875 \r\nQ 49.3125 8.734375 54.109375 11.28125 \r\nL 54.109375 2.78125 \r\nQ 49.265625 0.734375 44.1875 -0.34375 \r\nQ 39.109375 -1.421875 33.890625 -1.421875 \r\nQ 20.796875 -1.421875 13.15625 6.1875 \r\nQ 5.515625 13.8125 5.515625 26.8125 \r\nQ 5.515625 40.234375 12.765625 48.109375 \r\nQ 20.015625 56 32.328125 56 \r\nQ 43.359375 56 49.78125 48.890625 \r\nQ 56.203125 41.796875 56.203125 29.59375 \r\nz\r\nM 47.21875 32.234375 \r\nQ 47.125 39.59375 43.09375 43.984375 \r\nQ 39.0625 48.390625 32.421875 48.390625 \r\nQ 24.90625 48.390625 20.390625 44.140625 \r\nQ 15.875 39.890625 15.1875 32.171875 \r\nz\r\n\" id=\"DejaVuSans-101\"/>\r\n      </defs>\r\n      <use xlink:href=\"#DejaVuSans-73\"/>\r\n      <use x=\"29.492188\" xlink:href=\"#DejaVuSans-100\"/>\r\n      <use x=\"92.96875\" xlink:href=\"#DejaVuSans-97\"/>\r\n      <use x=\"154.248047\" xlink:href=\"#DejaVuSans-100\"/>\r\n      <use x=\"217.724609\" xlink:href=\"#DejaVuSans-101\"/>\r\n     </g>\r\n    </g>\r\n   </g>\r\n   <g id=\"matplotlib.axis_2\">\r\n    <g id=\"ytick_1\">\r\n     <g id=\"line2d_10\">\r\n      <defs>\r\n       <path d=\"M 0 0 \r\nL -3.5 0 \r\n\" id=\"m7c9482efa6\" style=\"stroke:#000000;stroke-width:0.8;\"/>\r\n      </defs>\r\n      <g>\r\n       <use style=\"stroke:#000000;stroke-width:0.8;\" x=\"47.60625\" xlink:href=\"#m7c9482efa6\" y=\"61.56\"/>\r\n      </g>\r\n     </g>\r\n     <g id=\"text_11\">\r\n      <!-- Não -->\r\n      <g transform=\"translate(20.878125 65.359219)scale(0.1 -0.1)\">\r\n       <defs>\r\n        <path d=\"M 9.8125 72.90625 \r\nL 23.09375 72.90625 \r\nL 55.421875 11.921875 \r\nL 55.421875 72.90625 \r\nL 64.984375 72.90625 \r\nL 64.984375 0 \r\nL 51.703125 0 \r\nL 19.390625 60.984375 \r\nL 19.390625 0 \r\nL 9.8125 0 \r\nz\r\n\" id=\"DejaVuSans-78\"/>\r\n        <path d=\"M 34.28125 27.484375 \r\nQ 23.390625 27.484375 19.1875 25 \r\nQ 14.984375 22.515625 14.984375 16.5 \r\nQ 14.984375 11.71875 18.140625 8.90625 \r\nQ 21.296875 6.109375 26.703125 6.109375 \r\nQ 34.1875 6.109375 38.703125 11.40625 \r\nQ 43.21875 16.703125 43.21875 25.484375 \r\nL 43.21875 27.484375 \r\nz\r\nM 52.203125 31.203125 \r\nL 52.203125 0 \r\nL 43.21875 0 \r\nL 43.21875 8.296875 \r\nQ 40.140625 3.328125 35.546875 0.953125 \r\nQ 30.953125 -1.421875 24.3125 -1.421875 \r\nQ 15.921875 -1.421875 10.953125 3.296875 \r\nQ 6 8.015625 6 15.921875 \r\nQ 6 25.140625 12.171875 29.828125 \r\nQ 18.359375 34.515625 30.609375 34.515625 \r\nL 43.21875 34.515625 \r\nL 43.21875 35.40625 \r\nQ 43.21875 41.609375 39.140625 45 \r\nQ 35.0625 48.390625 27.6875 48.390625 \r\nQ 23 48.390625 18.546875 47.265625 \r\nQ 14.109375 46.140625 10.015625 43.890625 \r\nL 10.015625 52.203125 \r\nQ 14.9375 54.109375 19.578125 55.046875 \r\nQ 24.21875 56 28.609375 56 \r\nQ 40.484375 56 46.34375 49.84375 \r\nQ 52.203125 43.703125 52.203125 31.203125 \r\nz\r\nM 28.8125 66.890625 \r\nL 26.015625 69.578125 \r\nQ 24.953125 70.5625 24.140625 71.015625 \r\nQ 23.34375 71.484375 22.703125 71.484375 \r\nQ 20.84375 71.484375 19.96875 69.703125 \r\nQ 19.09375 67.921875 18.984375 63.921875 \r\nL 12.890625 63.921875 \r\nQ 12.984375 70.515625 15.46875 74.09375 \r\nQ 17.96875 77.6875 22.40625 77.6875 \r\nQ 24.265625 77.6875 25.828125 77 \r\nQ 27.390625 76.3125 29.203125 74.703125 \r\nL 31.984375 72.015625 \r\nQ 33.046875 71.046875 33.859375 70.578125 \r\nQ 34.671875 70.125 35.296875 70.125 \r\nQ 37.15625 70.125 38.03125 71.90625 \r\nQ 38.90625 73.6875 39.015625 77.6875 \r\nL 45.109375 77.6875 \r\nQ 45.015625 71.09375 42.515625 67.5 \r\nQ 40.03125 63.921875 35.59375 63.921875 \r\nQ 33.734375 63.921875 32.171875 64.59375 \r\nQ 30.609375 65.28125 28.8125 66.890625 \r\nz\r\n\" id=\"DejaVuSans-227\"/>\r\n        <path d=\"M 30.609375 48.390625 \r\nQ 23.390625 48.390625 19.1875 42.75 \r\nQ 14.984375 37.109375 14.984375 27.296875 \r\nQ 14.984375 17.484375 19.15625 11.84375 \r\nQ 23.34375 6.203125 30.609375 6.203125 \r\nQ 37.796875 6.203125 41.984375 11.859375 \r\nQ 46.1875 17.53125 46.1875 27.296875 \r\nQ 46.1875 37.015625 41.984375 42.703125 \r\nQ 37.796875 48.390625 30.609375 48.390625 \r\nz\r\nM 30.609375 56 \r\nQ 42.328125 56 49.015625 48.375 \r\nQ 55.71875 40.765625 55.71875 27.296875 \r\nQ 55.71875 13.875 49.015625 6.21875 \r\nQ 42.328125 -1.421875 30.609375 -1.421875 \r\nQ 18.84375 -1.421875 12.171875 6.21875 \r\nQ 5.515625 13.875 5.515625 27.296875 \r\nQ 5.515625 40.765625 12.171875 48.375 \r\nQ 18.84375 56 30.609375 56 \r\nz\r\n\" id=\"DejaVuSans-111\"/>\r\n       </defs>\r\n       <use xlink:href=\"#DejaVuSans-78\"/>\r\n       <use x=\"74.804688\" xlink:href=\"#DejaVuSans-227\"/>\r\n       <use x=\"136.083984\" xlink:href=\"#DejaVuSans-111\"/>\r\n      </g>\r\n     </g>\r\n    </g>\r\n    <g id=\"ytick_2\">\r\n     <g id=\"line2d_11\">\r\n      <g>\r\n       <use style=\"stroke:#000000;stroke-width:0.8;\" x=\"47.60625\" xlink:href=\"#m7c9482efa6\" y=\"170.28\"/>\r\n      </g>\r\n     </g>\r\n     <g id=\"text_12\">\r\n      <!-- Sim -->\r\n      <g transform=\"translate(21.739063 174.079219)scale(0.1 -0.1)\">\r\n       <defs>\r\n        <path d=\"M 53.515625 70.515625 \r\nL 53.515625 60.890625 \r\nQ 47.90625 63.578125 42.921875 64.890625 \r\nQ 37.9375 66.21875 33.296875 66.21875 \r\nQ 25.25 66.21875 20.875 63.09375 \r\nQ 16.5 59.96875 16.5 54.203125 \r\nQ 16.5 49.359375 19.40625 46.890625 \r\nQ 22.3125 44.4375 30.421875 42.921875 \r\nL 36.375 41.703125 \r\nQ 47.40625 39.59375 52.65625 34.296875 \r\nQ 57.90625 29 57.90625 20.125 \r\nQ 57.90625 9.515625 50.796875 4.046875 \r\nQ 43.703125 -1.421875 29.984375 -1.421875 \r\nQ 24.8125 -1.421875 18.96875 -0.25 \r\nQ 13.140625 0.921875 6.890625 3.21875 \r\nL 6.890625 13.375 \r\nQ 12.890625 10.015625 18.65625 8.296875 \r\nQ 24.421875 6.59375 29.984375 6.59375 \r\nQ 38.421875 6.59375 43.015625 9.90625 \r\nQ 47.609375 13.234375 47.609375 19.390625 \r\nQ 47.609375 24.75 44.3125 27.78125 \r\nQ 41.015625 30.8125 33.5 32.328125 \r\nL 27.484375 33.5 \r\nQ 16.453125 35.6875 11.515625 40.375 \r\nQ 6.59375 45.0625 6.59375 53.421875 \r\nQ 6.59375 63.09375 13.40625 68.65625 \r\nQ 20.21875 74.21875 32.171875 74.21875 \r\nQ 37.3125 74.21875 42.625 73.28125 \r\nQ 47.953125 72.359375 53.515625 70.515625 \r\nz\r\n\" id=\"DejaVuSans-83\"/>\r\n        <path d=\"M 9.421875 54.6875 \r\nL 18.40625 54.6875 \r\nL 18.40625 0 \r\nL 9.421875 0 \r\nz\r\nM 9.421875 75.984375 \r\nL 18.40625 75.984375 \r\nL 18.40625 64.59375 \r\nL 9.421875 64.59375 \r\nz\r\n\" id=\"DejaVuSans-105\"/>\r\n        <path d=\"M 52 44.1875 \r\nQ 55.375 50.25 60.0625 53.125 \r\nQ 64.75 56 71.09375 56 \r\nQ 79.640625 56 84.28125 50.015625 \r\nQ 88.921875 44.046875 88.921875 33.015625 \r\nL 88.921875 0 \r\nL 79.890625 0 \r\nL 79.890625 32.71875 \r\nQ 79.890625 40.578125 77.09375 44.375 \r\nQ 74.3125 48.1875 68.609375 48.1875 \r\nQ 61.625 48.1875 57.5625 43.546875 \r\nQ 53.515625 38.921875 53.515625 30.90625 \r\nL 53.515625 0 \r\nL 44.484375 0 \r\nL 44.484375 32.71875 \r\nQ 44.484375 40.625 41.703125 44.40625 \r\nQ 38.921875 48.1875 33.109375 48.1875 \r\nQ 26.21875 48.1875 22.15625 43.53125 \r\nQ 18.109375 38.875 18.109375 30.90625 \r\nL 18.109375 0 \r\nL 9.078125 0 \r\nL 9.078125 54.6875 \r\nL 18.109375 54.6875 \r\nL 18.109375 46.1875 \r\nQ 21.1875 51.21875 25.484375 53.609375 \r\nQ 29.78125 56 35.6875 56 \r\nQ 41.65625 56 45.828125 52.96875 \r\nQ 50 49.953125 52 44.1875 \r\nz\r\n\" id=\"DejaVuSans-109\"/>\r\n       </defs>\r\n       <use xlink:href=\"#DejaVuSans-83\"/>\r\n       <use x=\"63.476562\" xlink:href=\"#DejaVuSans-105\"/>\r\n       <use x=\"91.259766\" xlink:href=\"#DejaVuSans-109\"/>\r\n      </g>\r\n     </g>\r\n    </g>\r\n    <g id=\"text_13\">\r\n     <!-- Contratar -->\r\n     <g transform=\"translate(14.798437 139.798906)rotate(-90)scale(0.1 -0.1)\">\r\n      <defs>\r\n       <path d=\"M 64.40625 67.28125 \r\nL 64.40625 56.890625 \r\nQ 59.421875 61.53125 53.78125 63.8125 \r\nQ 48.140625 66.109375 41.796875 66.109375 \r\nQ 29.296875 66.109375 22.65625 58.46875 \r\nQ 16.015625 50.828125 16.015625 36.375 \r\nQ 16.015625 21.96875 22.65625 14.328125 \r\nQ 29.296875 6.6875 41.796875 6.6875 \r\nQ 48.140625 6.6875 53.78125 8.984375 \r\nQ 59.421875 11.28125 64.40625 15.921875 \r\nL 64.40625 5.609375 \r\nQ 59.234375 2.09375 53.4375 0.328125 \r\nQ 47.65625 -1.421875 41.21875 -1.421875 \r\nQ 24.65625 -1.421875 15.125 8.703125 \r\nQ 5.609375 18.84375 5.609375 36.375 \r\nQ 5.609375 53.953125 15.125 64.078125 \r\nQ 24.65625 74.21875 41.21875 74.21875 \r\nQ 47.75 74.21875 53.53125 72.484375 \r\nQ 59.328125 70.75 64.40625 67.28125 \r\nz\r\n\" id=\"DejaVuSans-67\"/>\r\n       <path d=\"M 54.890625 33.015625 \r\nL 54.890625 0 \r\nL 45.90625 0 \r\nL 45.90625 32.71875 \r\nQ 45.90625 40.484375 42.875 44.328125 \r\nQ 39.84375 48.1875 33.796875 48.1875 \r\nQ 26.515625 48.1875 22.3125 43.546875 \r\nQ 18.109375 38.921875 18.109375 30.90625 \r\nL 18.109375 0 \r\nL 9.078125 0 \r\nL 9.078125 54.6875 \r\nL 18.109375 54.6875 \r\nL 18.109375 46.1875 \r\nQ 21.34375 51.125 25.703125 53.5625 \r\nQ 30.078125 56 35.796875 56 \r\nQ 45.21875 56 50.046875 50.171875 \r\nQ 54.890625 44.34375 54.890625 33.015625 \r\nz\r\n\" id=\"DejaVuSans-110\"/>\r\n       <path d=\"M 18.3125 70.21875 \r\nL 18.3125 54.6875 \r\nL 36.8125 54.6875 \r\nL 36.8125 47.703125 \r\nL 18.3125 47.703125 \r\nL 18.3125 18.015625 \r\nQ 18.3125 11.328125 20.140625 9.421875 \r\nQ 21.96875 7.515625 27.59375 7.515625 \r\nL 36.8125 7.515625 \r\nL 36.8125 0 \r\nL 27.59375 0 \r\nQ 17.1875 0 13.234375 3.875 \r\nQ 9.28125 7.765625 9.28125 18.015625 \r\nL 9.28125 47.703125 \r\nL 2.6875 47.703125 \r\nL 2.6875 54.6875 \r\nL 9.28125 54.6875 \r\nL 9.28125 70.21875 \r\nz\r\n\" id=\"DejaVuSans-116\"/>\r\n       <path d=\"M 41.109375 46.296875 \r\nQ 39.59375 47.171875 37.8125 47.578125 \r\nQ 36.03125 48 33.890625 48 \r\nQ 26.265625 48 22.1875 43.046875 \r\nQ 18.109375 38.09375 18.109375 28.8125 \r\nL 18.109375 0 \r\nL 9.078125 0 \r\nL 9.078125 54.6875 \r\nL 18.109375 54.6875 \r\nL 18.109375 46.1875 \r\nQ 20.953125 51.171875 25.484375 53.578125 \r\nQ 30.03125 56 36.53125 56 \r\nQ 37.453125 56 38.578125 55.875 \r\nQ 39.703125 55.765625 41.0625 55.515625 \r\nz\r\n\" id=\"DejaVuSans-114\"/>\r\n      </defs>\r\n      <use xlink:href=\"#DejaVuSans-67\"/>\r\n      <use x=\"69.824219\" xlink:href=\"#DejaVuSans-111\"/>\r\n      <use x=\"131.005859\" xlink:href=\"#DejaVuSans-110\"/>\r\n      <use x=\"194.384766\" xlink:href=\"#DejaVuSans-116\"/>\r\n      <use x=\"233.59375\" xlink:href=\"#DejaVuSans-114\"/>\r\n      <use x=\"274.707031\" xlink:href=\"#DejaVuSans-97\"/>\r\n      <use x=\"335.986328\" xlink:href=\"#DejaVuSans-116\"/>\r\n      <use x=\"375.195312\" xlink:href=\"#DejaVuSans-97\"/>\r\n      <use x=\"436.474609\" xlink:href=\"#DejaVuSans-114\"/>\r\n     </g>\r\n    </g>\r\n   </g>\r\n   <g id=\"line2d_12\">\r\n    <path clip-path=\"url(#p897688ed8a)\" d=\"M 358.054033 61.56 \r\nL 366.463393 61.56 \r\n\" style=\"fill:none;stroke:#424242;stroke-linecap:square;stroke-width:2.7;\"/>\r\n   </g>\r\n   <g id=\"line2d_13\">\r\n    <path clip-path=\"url(#p897688ed8a)\" d=\"M 315.672027 170.28 \r\nL 338.5881 170.28 \r\n\" style=\"fill:none;stroke:#424242;stroke-linecap:square;stroke-width:2.7;\"/>\r\n   </g>\r\n   <g id=\"patch_5\">\r\n    <path d=\"M 47.60625 224.64 \r\nL 47.60625 7.2 \r\n\" style=\"fill:none;stroke:#000000;stroke-linecap:square;stroke-linejoin:miter;stroke-width:0.8;\"/>\r\n   </g>\r\n   <g id=\"patch_6\">\r\n    <path d=\"M 382.40625 224.64 \r\nL 382.40625 7.2 \r\n\" style=\"fill:none;stroke:#000000;stroke-linecap:square;stroke-linejoin:miter;stroke-width:0.8;\"/>\r\n   </g>\r\n   <g id=\"patch_7\">\r\n    <path d=\"M 47.60625 224.64 \r\nL 382.40625 224.64 \r\n\" style=\"fill:none;stroke:#000000;stroke-linecap:square;stroke-linejoin:miter;stroke-width:0.8;\"/>\r\n   </g>\r\n   <g id=\"patch_8\">\r\n    <path d=\"M 47.60625 7.2 \r\nL 382.40625 7.2 \r\n\" style=\"fill:none;stroke:#000000;stroke-linecap:square;stroke-linejoin:miter;stroke-width:0.8;\"/>\r\n   </g>\r\n  </g>\r\n </g>\r\n <defs>\r\n  <clipPath id=\"p897688ed8a\">\r\n   <rect height=\"217.44\" width=\"334.8\" x=\"47.60625\" y=\"7.2\"/>\r\n  </clipPath>\r\n </defs>\r\n</svg>\r\n",
            "image/png": "[encoded data removed]"
          },
          "metadata": {
            "needs_background": "light"
          }
        }
      ]
    },
    {
      "cell_type": "code",
      "metadata": {
        "id": "AzHA0v7yHj79",
        "colab_type": "code",
        "colab": {
          "base_uri": "https://localhost:8080/",
          "height": 300
        },
        "outputId": "965c7ba6-30e9-4d68-c6fa-bfa095685172"
      },
      "source": [
        "sns.barplot(df['Genero'], df['Idade'])"
      ],
      "execution_count": 258,
      "outputs": [
        {
          "output_type": "execute_result",
          "data": {
            "text/plain": [
              "<AxesSubplot:xlabel='Genero', ylabel='Idade'>"
            ]
          },
          "metadata": {},
          "execution_count": 258
        },
        {
          "output_type": "display_data",
          "data": {
            "text/plain": "<Figure size 432x288 with 1 Axes>",
            "image/svg+xml": "<?xml version=\"1.0\" encoding=\"utf-8\" standalone=\"no\"?>\r\n<!DOCTYPE svg PUBLIC \"-//W3C//DTD SVG 1.1//EN\"\r\n  \"http://www.w3.org/Graphics/SVG/1.1/DTD/svg11.dtd\">\r\n<!-- Created with matplotlib (https://matplotlib.org/) -->\r\n<svg height=\"265.423318pt\" version=\"1.1\" viewBox=\"0 0 382.603125 265.423318\" width=\"382.603125pt\" xmlns=\"http://www.w3.org/2000/svg\" xmlns:xlink=\"http://www.w3.org/1999/xlink\">\r\n <metadata>\r\n  <rdf:RDF xmlns:cc=\"http://creativecommons.org/ns#\" xmlns:dc=\"http://purl.org/dc/elements/1.1/\" xmlns:rdf=\"http://www.w3.org/1999/02/22-rdf-syntax-ns#\">\r\n   <cc:Work>\r\n    <dc:type rdf:resource=\"http://purl.org/dc/dcmitype/StillImage\"/>\r\n    <dc:date>2021-02-19T17:03:49.660501</dc:date>\r\n    <dc:format>image/svg+xml</dc:format>\r\n    <dc:creator>\r\n     <cc:Agent>\r\n      <dc:title>Matplotlib v3.3.3, https://matplotlib.org/</dc:title>\r\n     </cc:Agent>\r\n    </dc:creator>\r\n   </cc:Work>\r\n  </rdf:RDF>\r\n </metadata>\r\n <defs>\r\n  <style type=\"text/css\">*{stroke-linecap:butt;stroke-linejoin:round;}</style>\r\n </defs>\r\n <g id=\"figure_1\">\r\n  <g id=\"patch_1\">\r\n   <path d=\"M 0 265.423318 \r\nL 382.603125 265.423318 \r\nL 382.603125 0 \r\nL 0 0 \r\nz\r\n\" style=\"fill:none;\"/>\r\n  </g>\r\n  <g id=\"axes_1\">\r\n   <g id=\"patch_2\">\r\n    <path d=\"M 40.603125 227.867068 \r\nL 375.403125 227.867068 \r\nL 375.403125 10.427068 \r\nL 40.603125 10.427068 \r\nz\r\n\" style=\"fill:#ffffff;\"/>\r\n   </g>\r\n   <g id=\"patch_3\">\r\n    <path clip-path=\"url(#p3e73a3f4f3)\" d=\"M 57.343125 227.867068 \r\nL 191.263125 227.867068 \r\nL 191.263125 28.669441 \r\nL 57.343125 28.669441 \r\nz\r\n\" style=\"fill:#3274a1;\"/>\r\n   </g>\r\n   <g id=\"patch_4\">\r\n    <path clip-path=\"url(#p3e73a3f4f3)\" d=\"M 224.743125 227.867068 \r\nL 358.663125 227.867068 \r\nL 358.663125 24.769541 \r\nL 224.743125 24.769541 \r\nz\r\n\" style=\"fill:#e1812c;\"/>\r\n   </g>\r\n   <g id=\"matplotlib.axis_1\">\r\n    <g id=\"xtick_1\">\r\n     <g id=\"line2d_1\">\r\n      <defs>\r\n       <path d=\"M 0 0 \r\nL 0 3.5 \r\n\" id=\"mccc6e63187\" style=\"stroke:#000000;stroke-width:0.8;\"/>\r\n      </defs>\r\n      <g>\r\n       <use style=\"stroke:#000000;stroke-width:0.8;\" x=\"124.303125\" xlink:href=\"#mccc6e63187\" y=\"227.867068\"/>\r\n      </g>\r\n     </g>\r\n     <g id=\"text_1\">\r\n      <!-- M -->\r\n      <g transform=\"translate(119.989062 242.465505)scale(0.1 -0.1)\">\r\n       <defs>\r\n        <path d=\"M 9.8125 72.90625 \r\nL 24.515625 72.90625 \r\nL 43.109375 23.296875 \r\nL 61.8125 72.90625 \r\nL 76.515625 72.90625 \r\nL 76.515625 0 \r\nL 66.890625 0 \r\nL 66.890625 64.015625 \r\nL 48.09375 14.015625 \r\nL 38.1875 14.015625 \r\nL 19.390625 64.015625 \r\nL 19.390625 0 \r\nL 9.8125 0 \r\nz\r\n\" id=\"DejaVuSans-77\"/>\r\n       </defs>\r\n       <use xlink:href=\"#DejaVuSans-77\"/>\r\n      </g>\r\n     </g>\r\n    </g>\r\n    <g id=\"xtick_2\">\r\n     <g id=\"line2d_2\">\r\n      <g>\r\n       <use style=\"stroke:#000000;stroke-width:0.8;\" x=\"291.703125\" xlink:href=\"#mccc6e63187\" y=\"227.867068\"/>\r\n      </g>\r\n     </g>\r\n     <g id=\"text_2\">\r\n      <!-- F -->\r\n      <g transform=\"translate(288.827344 242.465505)scale(0.1 -0.1)\">\r\n       <defs>\r\n        <path d=\"M 9.8125 72.90625 \r\nL 51.703125 72.90625 \r\nL 51.703125 64.59375 \r\nL 19.671875 64.59375 \r\nL 19.671875 43.109375 \r\nL 48.578125 43.109375 \r\nL 48.578125 34.8125 \r\nL 19.671875 34.8125 \r\nL 19.671875 0 \r\nL 9.8125 0 \r\nz\r\n\" id=\"DejaVuSans-70\"/>\r\n       </defs>\r\n       <use xlink:href=\"#DejaVuSans-70\"/>\r\n      </g>\r\n     </g>\r\n    </g>\r\n    <g id=\"text_3\">\r\n     <!-- Genero -->\r\n     <g transform=\"translate(189.804687 256.14363)scale(0.1 -0.1)\">\r\n      <defs>\r\n       <path d=\"M 59.515625 10.40625 \r\nL 59.515625 29.984375 \r\nL 43.40625 29.984375 \r\nL 43.40625 38.09375 \r\nL 69.28125 38.09375 \r\nL 69.28125 6.78125 \r\nQ 63.578125 2.734375 56.6875 0.65625 \r\nQ 49.8125 -1.421875 42 -1.421875 \r\nQ 24.90625 -1.421875 15.25 8.5625 \r\nQ 5.609375 18.5625 5.609375 36.375 \r\nQ 5.609375 54.25 15.25 64.234375 \r\nQ 24.90625 74.21875 42 74.21875 \r\nQ 49.125 74.21875 55.546875 72.453125 \r\nQ 61.96875 70.703125 67.390625 67.28125 \r\nL 67.390625 56.78125 \r\nQ 61.921875 61.421875 55.765625 63.765625 \r\nQ 49.609375 66.109375 42.828125 66.109375 \r\nQ 29.4375 66.109375 22.71875 58.640625 \r\nQ 16.015625 51.171875 16.015625 36.375 \r\nQ 16.015625 21.625 22.71875 14.15625 \r\nQ 29.4375 6.6875 42.828125 6.6875 \r\nQ 48.046875 6.6875 52.140625 7.59375 \r\nQ 56.25 8.5 59.515625 10.40625 \r\nz\r\n\" id=\"DejaVuSans-71\"/>\r\n       <path d=\"M 56.203125 29.59375 \r\nL 56.203125 25.203125 \r\nL 14.890625 25.203125 \r\nQ 15.484375 15.921875 20.484375 11.0625 \r\nQ 25.484375 6.203125 34.421875 6.203125 \r\nQ 39.59375 6.203125 44.453125 7.46875 \r\nQ 49.3125 8.734375 54.109375 11.28125 \r\nL 54.109375 2.78125 \r\nQ 49.265625 0.734375 44.1875 -0.34375 \r\nQ 39.109375 -1.421875 33.890625 -1.421875 \r\nQ 20.796875 -1.421875 13.15625 6.1875 \r\nQ 5.515625 13.8125 5.515625 26.8125 \r\nQ 5.515625 40.234375 12.765625 48.109375 \r\nQ 20.015625 56 32.328125 56 \r\nQ 43.359375 56 49.78125 48.890625 \r\nQ 56.203125 41.796875 56.203125 29.59375 \r\nz\r\nM 47.21875 32.234375 \r\nQ 47.125 39.59375 43.09375 43.984375 \r\nQ 39.0625 48.390625 32.421875 48.390625 \r\nQ 24.90625 48.390625 20.390625 44.140625 \r\nQ 15.875 39.890625 15.1875 32.171875 \r\nz\r\n\" id=\"DejaVuSans-101\"/>\r\n       <path d=\"M 54.890625 33.015625 \r\nL 54.890625 0 \r\nL 45.90625 0 \r\nL 45.90625 32.71875 \r\nQ 45.90625 40.484375 42.875 44.328125 \r\nQ 39.84375 48.1875 33.796875 48.1875 \r\nQ 26.515625 48.1875 22.3125 43.546875 \r\nQ 18.109375 38.921875 18.109375 30.90625 \r\nL 18.109375 0 \r\nL 9.078125 0 \r\nL 9.078125 54.6875 \r\nL 18.109375 54.6875 \r\nL 18.109375 46.1875 \r\nQ 21.34375 51.125 25.703125 53.5625 \r\nQ 30.078125 56 35.796875 56 \r\nQ 45.21875 56 50.046875 50.171875 \r\nQ 54.890625 44.34375 54.890625 33.015625 \r\nz\r\n\" id=\"DejaVuSans-110\"/>\r\n       <path d=\"M 41.109375 46.296875 \r\nQ 39.59375 47.171875 37.8125 47.578125 \r\nQ 36.03125 48 33.890625 48 \r\nQ 26.265625 48 22.1875 43.046875 \r\nQ 18.109375 38.09375 18.109375 28.8125 \r\nL 18.109375 0 \r\nL 9.078125 0 \r\nL 9.078125 54.6875 \r\nL 18.109375 54.6875 \r\nL 18.109375 46.1875 \r\nQ 20.953125 51.171875 25.484375 53.578125 \r\nQ 30.03125 56 36.53125 56 \r\nQ 37.453125 56 38.578125 55.875 \r\nQ 39.703125 55.765625 41.0625 55.515625 \r\nz\r\n\" id=\"DejaVuSans-114\"/>\r\n       <path d=\"M 30.609375 48.390625 \r\nQ 23.390625 48.390625 19.1875 42.75 \r\nQ 14.984375 37.109375 14.984375 27.296875 \r\nQ 14.984375 17.484375 19.15625 11.84375 \r\nQ 23.34375 6.203125 30.609375 6.203125 \r\nQ 37.796875 6.203125 41.984375 11.859375 \r\nQ 46.1875 17.53125 46.1875 27.296875 \r\nQ 46.1875 37.015625 41.984375 42.703125 \r\nQ 37.796875 48.390625 30.609375 48.390625 \r\nz\r\nM 30.609375 56 \r\nQ 42.328125 56 49.015625 48.375 \r\nQ 55.71875 40.765625 55.71875 27.296875 \r\nQ 55.71875 13.875 49.015625 6.21875 \r\nQ 42.328125 -1.421875 30.609375 -1.421875 \r\nQ 18.84375 -1.421875 12.171875 6.21875 \r\nQ 5.515625 13.875 5.515625 27.296875 \r\nQ 5.515625 40.765625 12.171875 48.375 \r\nQ 18.84375 56 30.609375 56 \r\nz\r\n\" id=\"DejaVuSans-111\"/>\r\n      </defs>\r\n      <use xlink:href=\"#DejaVuSans-71\"/>\r\n      <use x=\"77.490234\" xlink:href=\"#DejaVuSans-101\"/>\r\n      <use x=\"139.013672\" xlink:href=\"#DejaVuSans-110\"/>\r\n      <use x=\"202.392578\" xlink:href=\"#DejaVuSans-101\"/>\r\n      <use x=\"263.916016\" xlink:href=\"#DejaVuSans-114\"/>\r\n      <use x=\"302.779297\" xlink:href=\"#DejaVuSans-111\"/>\r\n     </g>\r\n    </g>\r\n   </g>\r\n   <g id=\"matplotlib.axis_2\">\r\n    <g id=\"ytick_1\">\r\n     <g id=\"line2d_3\">\r\n      <defs>\r\n       <path d=\"M 0 0 \r\nL -3.5 0 \r\n\" id=\"m41c5a35b45\" style=\"stroke:#000000;stroke-width:0.8;\"/>\r\n      </defs>\r\n      <g>\r\n       <use style=\"stroke:#000000;stroke-width:0.8;\" x=\"40.603125\" xlink:href=\"#m41c5a35b45\" y=\"227.867068\"/>\r\n      </g>\r\n     </g>\r\n     <g id=\"text_4\">\r\n      <!-- 0 -->\r\n      <g transform=\"translate(27.240625 231.666286)scale(0.1 -0.1)\">\r\n       <defs>\r\n        <path d=\"M 31.78125 66.40625 \r\nQ 24.171875 66.40625 20.328125 58.90625 \r\nQ 16.5 51.421875 16.5 36.375 \r\nQ 16.5 21.390625 20.328125 13.890625 \r\nQ 24.171875 6.390625 31.78125 6.390625 \r\nQ 39.453125 6.390625 43.28125 13.890625 \r\nQ 47.125 21.390625 47.125 36.375 \r\nQ 47.125 51.421875 43.28125 58.90625 \r\nQ 39.453125 66.40625 31.78125 66.40625 \r\nz\r\nM 31.78125 74.21875 \r\nQ 44.046875 74.21875 50.515625 64.515625 \r\nQ 56.984375 54.828125 56.984375 36.375 \r\nQ 56.984375 17.96875 50.515625 8.265625 \r\nQ 44.046875 -1.421875 31.78125 -1.421875 \r\nQ 19.53125 -1.421875 13.0625 8.265625 \r\nQ 6.59375 17.96875 6.59375 36.375 \r\nQ 6.59375 54.828125 13.0625 64.515625 \r\nQ 19.53125 74.21875 31.78125 74.21875 \r\nz\r\n\" id=\"DejaVuSans-48\"/>\r\n       </defs>\r\n       <use xlink:href=\"#DejaVuSans-48\"/>\r\n      </g>\r\n     </g>\r\n    </g>\r\n    <g id=\"ytick_2\">\r\n     <g id=\"line2d_4\">\r\n      <g>\r\n       <use style=\"stroke:#000000;stroke-width:0.8;\" x=\"40.603125\" xlink:href=\"#m41c5a35b45\" y=\"200.758587\"/>\r\n      </g>\r\n     </g>\r\n     <g id=\"text_5\">\r\n      <!-- 5 -->\r\n      <g transform=\"translate(27.240625 204.557805)scale(0.1 -0.1)\">\r\n       <defs>\r\n        <path d=\"M 10.796875 72.90625 \r\nL 49.515625 72.90625 \r\nL 49.515625 64.59375 \r\nL 19.828125 64.59375 \r\nL 19.828125 46.734375 \r\nQ 21.96875 47.46875 24.109375 47.828125 \r\nQ 26.265625 48.1875 28.421875 48.1875 \r\nQ 40.625 48.1875 47.75 41.5 \r\nQ 54.890625 34.8125 54.890625 23.390625 \r\nQ 54.890625 11.625 47.5625 5.09375 \r\nQ 40.234375 -1.421875 26.90625 -1.421875 \r\nQ 22.3125 -1.421875 17.546875 -0.640625 \r\nQ 12.796875 0.140625 7.71875 1.703125 \r\nL 7.71875 11.625 \r\nQ 12.109375 9.234375 16.796875 8.0625 \r\nQ 21.484375 6.890625 26.703125 6.890625 \r\nQ 35.15625 6.890625 40.078125 11.328125 \r\nQ 45.015625 15.765625 45.015625 23.390625 \r\nQ 45.015625 31 40.078125 35.4375 \r\nQ 35.15625 39.890625 26.703125 39.890625 \r\nQ 22.75 39.890625 18.8125 39.015625 \r\nQ 14.890625 38.140625 10.796875 36.28125 \r\nz\r\n\" id=\"DejaVuSans-53\"/>\r\n       </defs>\r\n       <use xlink:href=\"#DejaVuSans-53\"/>\r\n      </g>\r\n     </g>\r\n    </g>\r\n    <g id=\"ytick_3\">\r\n     <g id=\"line2d_5\">\r\n      <g>\r\n       <use style=\"stroke:#000000;stroke-width:0.8;\" x=\"40.603125\" xlink:href=\"#m41c5a35b45\" y=\"173.650105\"/>\r\n      </g>\r\n     </g>\r\n     <g id=\"text_6\">\r\n      <!-- 10 -->\r\n      <g transform=\"translate(20.878125 177.449324)scale(0.1 -0.1)\">\r\n       <defs>\r\n        <path d=\"M 12.40625 8.296875 \r\nL 28.515625 8.296875 \r\nL 28.515625 63.921875 \r\nL 10.984375 60.40625 \r\nL 10.984375 69.390625 \r\nL 28.421875 72.90625 \r\nL 38.28125 72.90625 \r\nL 38.28125 8.296875 \r\nL 54.390625 8.296875 \r\nL 54.390625 0 \r\nL 12.40625 0 \r\nz\r\n\" id=\"DejaVuSans-49\"/>\r\n       </defs>\r\n       <use xlink:href=\"#DejaVuSans-49\"/>\r\n       <use x=\"63.623047\" xlink:href=\"#DejaVuSans-48\"/>\r\n      </g>\r\n     </g>\r\n    </g>\r\n    <g id=\"ytick_4\">\r\n     <g id=\"line2d_6\">\r\n      <g>\r\n       <use style=\"stroke:#000000;stroke-width:0.8;\" x=\"40.603125\" xlink:href=\"#m41c5a35b45\" y=\"146.541624\"/>\r\n      </g>\r\n     </g>\r\n     <g id=\"text_7\">\r\n      <!-- 15 -->\r\n      <g transform=\"translate(20.878125 150.340843)scale(0.1 -0.1)\">\r\n       <use xlink:href=\"#DejaVuSans-49\"/>\r\n       <use x=\"63.623047\" xlink:href=\"#DejaVuSans-53\"/>\r\n      </g>\r\n     </g>\r\n    </g>\r\n    <g id=\"ytick_5\">\r\n     <g id=\"line2d_7\">\r\n      <g>\r\n       <use style=\"stroke:#000000;stroke-width:0.8;\" x=\"40.603125\" xlink:href=\"#m41c5a35b45\" y=\"119.433143\"/>\r\n      </g>\r\n     </g>\r\n     <g id=\"text_8\">\r\n      <!-- 20 -->\r\n      <g transform=\"translate(20.878125 123.232362)scale(0.1 -0.1)\">\r\n       <defs>\r\n        <path d=\"M 19.1875 8.296875 \r\nL 53.609375 8.296875 \r\nL 53.609375 0 \r\nL 7.328125 0 \r\nL 7.328125 8.296875 \r\nQ 12.9375 14.109375 22.625 23.890625 \r\nQ 32.328125 33.6875 34.8125 36.53125 \r\nQ 39.546875 41.84375 41.421875 45.53125 \r\nQ 43.3125 49.21875 43.3125 52.78125 \r\nQ 43.3125 58.59375 39.234375 62.25 \r\nQ 35.15625 65.921875 28.609375 65.921875 \r\nQ 23.96875 65.921875 18.8125 64.3125 \r\nQ 13.671875 62.703125 7.8125 59.421875 \r\nL 7.8125 69.390625 \r\nQ 13.765625 71.78125 18.9375 73 \r\nQ 24.125 74.21875 28.421875 74.21875 \r\nQ 39.75 74.21875 46.484375 68.546875 \r\nQ 53.21875 62.890625 53.21875 53.421875 \r\nQ 53.21875 48.921875 51.53125 44.890625 \r\nQ 49.859375 40.875 45.40625 35.40625 \r\nQ 44.1875 33.984375 37.640625 27.21875 \r\nQ 31.109375 20.453125 19.1875 8.296875 \r\nz\r\n\" id=\"DejaVuSans-50\"/>\r\n       </defs>\r\n       <use xlink:href=\"#DejaVuSans-50\"/>\r\n       <use x=\"63.623047\" xlink:href=\"#DejaVuSans-48\"/>\r\n      </g>\r\n     </g>\r\n    </g>\r\n    <g id=\"ytick_6\">\r\n     <g id=\"line2d_8\">\r\n      <g>\r\n       <use style=\"stroke:#000000;stroke-width:0.8;\" x=\"40.603125\" xlink:href=\"#m41c5a35b45\" y=\"92.324662\"/>\r\n      </g>\r\n     </g>\r\n     <g id=\"text_9\">\r\n      <!-- 25 -->\r\n      <g transform=\"translate(20.878125 96.123881)scale(0.1 -0.1)\">\r\n       <use xlink:href=\"#DejaVuSans-50\"/>\r\n       <use x=\"63.623047\" xlink:href=\"#DejaVuSans-53\"/>\r\n      </g>\r\n     </g>\r\n    </g>\r\n    <g id=\"ytick_7\">\r\n     <g id=\"line2d_9\">\r\n      <g>\r\n       <use style=\"stroke:#000000;stroke-width:0.8;\" x=\"40.603125\" xlink:href=\"#m41c5a35b45\" y=\"65.216181\"/>\r\n      </g>\r\n     </g>\r\n     <g id=\"text_10\">\r\n      <!-- 30 -->\r\n      <g transform=\"translate(20.878125 69.0154)scale(0.1 -0.1)\">\r\n       <defs>\r\n        <path d=\"M 40.578125 39.3125 \r\nQ 47.65625 37.796875 51.625 33 \r\nQ 55.609375 28.21875 55.609375 21.1875 \r\nQ 55.609375 10.40625 48.1875 4.484375 \r\nQ 40.765625 -1.421875 27.09375 -1.421875 \r\nQ 22.515625 -1.421875 17.65625 -0.515625 \r\nQ 12.796875 0.390625 7.625 2.203125 \r\nL 7.625 11.71875 \r\nQ 11.71875 9.328125 16.59375 8.109375 \r\nQ 21.484375 6.890625 26.8125 6.890625 \r\nQ 36.078125 6.890625 40.9375 10.546875 \r\nQ 45.796875 14.203125 45.796875 21.1875 \r\nQ 45.796875 27.640625 41.28125 31.265625 \r\nQ 36.765625 34.90625 28.71875 34.90625 \r\nL 20.21875 34.90625 \r\nL 20.21875 43.015625 \r\nL 29.109375 43.015625 \r\nQ 36.375 43.015625 40.234375 45.921875 \r\nQ 44.09375 48.828125 44.09375 54.296875 \r\nQ 44.09375 59.90625 40.109375 62.90625 \r\nQ 36.140625 65.921875 28.71875 65.921875 \r\nQ 24.65625 65.921875 20.015625 65.03125 \r\nQ 15.375 64.15625 9.8125 62.3125 \r\nL 9.8125 71.09375 \r\nQ 15.4375 72.65625 20.34375 73.4375 \r\nQ 25.25 74.21875 29.59375 74.21875 \r\nQ 40.828125 74.21875 47.359375 69.109375 \r\nQ 53.90625 64.015625 53.90625 55.328125 \r\nQ 53.90625 49.265625 50.4375 45.09375 \r\nQ 46.96875 40.921875 40.578125 39.3125 \r\nz\r\n\" id=\"DejaVuSans-51\"/>\r\n       </defs>\r\n       <use xlink:href=\"#DejaVuSans-51\"/>\r\n       <use x=\"63.623047\" xlink:href=\"#DejaVuSans-48\"/>\r\n      </g>\r\n     </g>\r\n    </g>\r\n    <g id=\"ytick_8\">\r\n     <g id=\"line2d_10\">\r\n      <g>\r\n       <use style=\"stroke:#000000;stroke-width:0.8;\" x=\"40.603125\" xlink:href=\"#m41c5a35b45\" y=\"38.1077\"/>\r\n      </g>\r\n     </g>\r\n     <g id=\"text_11\">\r\n      <!-- 35 -->\r\n      <g transform=\"translate(20.878125 41.906919)scale(0.1 -0.1)\">\r\n       <use xlink:href=\"#DejaVuSans-51\"/>\r\n       <use x=\"63.623047\" xlink:href=\"#DejaVuSans-53\"/>\r\n      </g>\r\n     </g>\r\n    </g>\r\n    <g id=\"ytick_9\">\r\n     <g id=\"line2d_11\">\r\n      <g>\r\n       <use style=\"stroke:#000000;stroke-width:0.8;\" x=\"40.603125\" xlink:href=\"#m41c5a35b45\" y=\"10.999219\"/>\r\n      </g>\r\n     </g>\r\n     <g id=\"text_12\">\r\n      <!-- 40 -->\r\n      <g transform=\"translate(20.878125 14.798437)scale(0.1 -0.1)\">\r\n       <defs>\r\n        <path d=\"M 37.796875 64.3125 \r\nL 12.890625 25.390625 \r\nL 37.796875 25.390625 \r\nz\r\nM 35.203125 72.90625 \r\nL 47.609375 72.90625 \r\nL 47.609375 25.390625 \r\nL 58.015625 25.390625 \r\nL 58.015625 17.1875 \r\nL 47.609375 17.1875 \r\nL 47.609375 0 \r\nL 37.796875 0 \r\nL 37.796875 17.1875 \r\nL 4.890625 17.1875 \r\nL 4.890625 26.703125 \r\nz\r\n\" id=\"DejaVuSans-52\"/>\r\n       </defs>\r\n       <use xlink:href=\"#DejaVuSans-52\"/>\r\n       <use x=\"63.623047\" xlink:href=\"#DejaVuSans-48\"/>\r\n      </g>\r\n     </g>\r\n    </g>\r\n    <g id=\"text_13\">\r\n     <!-- Idade -->\r\n     <g transform=\"translate(14.798438 133.11113)rotate(-90)scale(0.1 -0.1)\">\r\n      <defs>\r\n       <path d=\"M 9.8125 72.90625 \r\nL 19.671875 72.90625 \r\nL 19.671875 0 \r\nL 9.8125 0 \r\nz\r\n\" id=\"DejaVuSans-73\"/>\r\n       <path d=\"M 45.40625 46.390625 \r\nL 45.40625 75.984375 \r\nL 54.390625 75.984375 \r\nL 54.390625 0 \r\nL 45.40625 0 \r\nL 45.40625 8.203125 \r\nQ 42.578125 3.328125 38.25 0.953125 \r\nQ 33.9375 -1.421875 27.875 -1.421875 \r\nQ 17.96875 -1.421875 11.734375 6.484375 \r\nQ 5.515625 14.40625 5.515625 27.296875 \r\nQ 5.515625 40.1875 11.734375 48.09375 \r\nQ 17.96875 56 27.875 56 \r\nQ 33.9375 56 38.25 53.625 \r\nQ 42.578125 51.265625 45.40625 46.390625 \r\nz\r\nM 14.796875 27.296875 \r\nQ 14.796875 17.390625 18.875 11.75 \r\nQ 22.953125 6.109375 30.078125 6.109375 \r\nQ 37.203125 6.109375 41.296875 11.75 \r\nQ 45.40625 17.390625 45.40625 27.296875 \r\nQ 45.40625 37.203125 41.296875 42.84375 \r\nQ 37.203125 48.484375 30.078125 48.484375 \r\nQ 22.953125 48.484375 18.875 42.84375 \r\nQ 14.796875 37.203125 14.796875 27.296875 \r\nz\r\n\" id=\"DejaVuSans-100\"/>\r\n       <path d=\"M 34.28125 27.484375 \r\nQ 23.390625 27.484375 19.1875 25 \r\nQ 14.984375 22.515625 14.984375 16.5 \r\nQ 14.984375 11.71875 18.140625 8.90625 \r\nQ 21.296875 6.109375 26.703125 6.109375 \r\nQ 34.1875 6.109375 38.703125 11.40625 \r\nQ 43.21875 16.703125 43.21875 25.484375 \r\nL 43.21875 27.484375 \r\nz\r\nM 52.203125 31.203125 \r\nL 52.203125 0 \r\nL 43.21875 0 \r\nL 43.21875 8.296875 \r\nQ 40.140625 3.328125 35.546875 0.953125 \r\nQ 30.953125 -1.421875 24.3125 -1.421875 \r\nQ 15.921875 -1.421875 10.953125 3.296875 \r\nQ 6 8.015625 6 15.921875 \r\nQ 6 25.140625 12.171875 29.828125 \r\nQ 18.359375 34.515625 30.609375 34.515625 \r\nL 43.21875 34.515625 \r\nL 43.21875 35.40625 \r\nQ 43.21875 41.609375 39.140625 45 \r\nQ 35.0625 48.390625 27.6875 48.390625 \r\nQ 23 48.390625 18.546875 47.265625 \r\nQ 14.109375 46.140625 10.015625 43.890625 \r\nL 10.015625 52.203125 \r\nQ 14.9375 54.109375 19.578125 55.046875 \r\nQ 24.21875 56 28.609375 56 \r\nQ 40.484375 56 46.34375 49.84375 \r\nQ 52.203125 43.703125 52.203125 31.203125 \r\nz\r\n\" id=\"DejaVuSans-97\"/>\r\n      </defs>\r\n      <use xlink:href=\"#DejaVuSans-73\"/>\r\n      <use x=\"29.492188\" xlink:href=\"#DejaVuSans-100\"/>\r\n      <use x=\"92.96875\" xlink:href=\"#DejaVuSans-97\"/>\r\n      <use x=\"154.248047\" xlink:href=\"#DejaVuSans-100\"/>\r\n      <use x=\"217.724609\" xlink:href=\"#DejaVuSans-101\"/>\r\n     </g>\r\n    </g>\r\n   </g>\r\n   <g id=\"line2d_12\">\r\n    <path clip-path=\"url(#p3e73a3f4f3)\" d=\"M 124.303125 31.991225 \r\nL 124.303125 25.229349 \r\n\" style=\"fill:none;stroke:#424242;stroke-linecap:square;stroke-width:2.7;\"/>\r\n   </g>\r\n   <g id=\"line2d_13\">\r\n    <path clip-path=\"url(#p3e73a3f4f3)\" d=\"M 291.703125 29.023167 \r\nL 291.703125 20.781353 \r\n\" style=\"fill:none;stroke:#424242;stroke-linecap:square;stroke-width:2.7;\"/>\r\n   </g>\r\n   <g id=\"patch_5\">\r\n    <path d=\"M 40.603125 227.867068 \r\nL 40.603125 10.427068 \r\n\" style=\"fill:none;stroke:#000000;stroke-linecap:square;stroke-linejoin:miter;stroke-width:0.8;\"/>\r\n   </g>\r\n   <g id=\"patch_6\">\r\n    <path d=\"M 375.403125 227.867068 \r\nL 375.403125 10.427068 \r\n\" style=\"fill:none;stroke:#000000;stroke-linecap:square;stroke-linejoin:miter;stroke-width:0.8;\"/>\r\n   </g>\r\n   <g id=\"patch_7\">\r\n    <path d=\"M 40.603125 227.867068 \r\nL 375.403125 227.867068 \r\n\" style=\"fill:none;stroke:#000000;stroke-linecap:square;stroke-linejoin:miter;stroke-width:0.8;\"/>\r\n   </g>\r\n   <g id=\"patch_8\">\r\n    <path d=\"M 40.603125 10.427068 \r\nL 375.403125 10.427068 \r\n\" style=\"fill:none;stroke:#000000;stroke-linecap:square;stroke-linejoin:miter;stroke-width:0.8;\"/>\r\n   </g>\r\n  </g>\r\n </g>\r\n <defs>\r\n  <clipPath id=\"p3e73a3f4f3\">\r\n   <rect height=\"217.44\" width=\"334.8\" x=\"40.603125\" y=\"10.427068\"/>\r\n  </clipPath>\r\n </defs>\r\n</svg>\r\n",
            "image/png": "[encoded data removed]"
          },
          "metadata": {
            "needs_background": "light"
          }
        }
      ]
    },
    {
      "cell_type": "code",
      "metadata": {
        "id": "-q-PZzIGJIZ1",
        "colab_type": "code",
        "colab": {
          "base_uri": "https://localhost:8080/",
          "height": 34
        },
        "outputId": "92067a0c-2f07-4791-b075-c2001c290baa"
      },
      "source": [
        "# Media de renda\n",
        "np.mean(df['Renda'])"
      ],
      "execution_count": 259,
      "outputs": [
        {
          "output_type": "execute_result",
          "data": {
            "text/plain": [
              "6572.754744525548"
            ]
          },
          "metadata": {},
          "execution_count": 259
        }
      ]
    },
    {
      "cell_type": "code",
      "metadata": {
        "id": "f6k-e-6DSiIh",
        "colab_type": "code",
        "colab": {
          "base_uri": "https://localhost:8080/",
          "height": 722
        },
        "outputId": "565dbaf6-c8a1-433d-cbf4-4ac1e44b7b1d"
      },
      "source": [
        "df.info()"
      ],
      "execution_count": 260,
      "outputs": [
        {
          "output_type": "stream",
          "name": "stdout",
          "text": [
            "<class 'pandas.core.frame.DataFrame'>\nRangeIndex: 1370 entries, 0 to 1369\nData columns (total 35 columns):\n #   Column                                      Non-Null Count  Dtype \n---  ------                                      --------------  ----- \n 0   Idade                                       1370 non-null   int64 \n 1   Local de trabalho                           1370 non-null   object\n 2   Pontuação teste                             1370 non-null   int64 \n 3   Departmento                                 1370 non-null   object\n 4   Distancia casa-trabalho                     1370 non-null   int64 \n 5   Educacao                                    1370 non-null   object\n 6   Area                                        1370 non-null   object\n 7   Possui carro                                1370 non-null   int64 \n 8   Subordinado                                 1370 non-null   int64 \n 9   Satisfação com o ambiente no emprego atual  1370 non-null   int64 \n 10  Genero                                      1370 non-null   object\n 11  Horas voluntariado                          1370 non-null   int64 \n 12  Envolvimento com trabalho                   1370 non-null   int64 \n 13  Posicao                                     1370 non-null   int64 \n 14  Cargo                                       1370 non-null   object\n 15  Satisfação com emprego                      1370 non-null   int64 \n 16  Estado civil                                1370 non-null   object\n 17  Renda                                       1370 non-null   int64 \n 18  Bonus de performance                        1370 non-null   int64 \n 19  Quantidade de empresas que trabalho         1370 non-null   int64 \n 20  Maior de idade                              1370 non-null   int64 \n 21  Necessita de hora extra                     1370 non-null   object\n 22  Aumento de salario%                         1370 non-null   int64 \n 23  Performance na entrevista                   1370 non-null   int64 \n 24  Satisfação com a relação                    1370 non-null   int64 \n 25  Horas de trabalho padrão                    1370 non-null   int64 \n 26  Beneficios                                  1370 non-null   int64 \n 27  Anos de experiencia                         1370 non-null   int64 \n 28  Horas de treinamento ultimo ano             1370 non-null   int64 \n 29  Estilo de vida                              1370 non-null   int64 \n 30  Anos na última empresa                      1370 non-null   int64 \n 31  Anos na posição atual                       1370 non-null   int64 \n 32  Anos desde última promoção                  1370 non-null   int64 \n 33  Anos com a mesma gerência                   1370 non-null   int64 \n 34  Contratar                                   1370 non-null   object\ndtypes: int64(26), object(9)\nmemory usage: 374.7+ KB\n"
          ]
        }
      ]
    },
    {
      "cell_type": "code",
      "metadata": {
        "id": "SyW7EkdvSlmR",
        "colab_type": "code",
        "colab": {
          "base_uri": "https://localhost:8080/",
          "height": 622
        },
        "outputId": "87815c77-a371-40f8-91d0-2ccb4cadab56"
      },
      "source": [
        "df.nunique()"
      ],
      "execution_count": 261,
      "outputs": [
        {
          "output_type": "execute_result",
          "data": {
            "text/plain": [
              "Idade                                           43\n",
              "Local de trabalho                                3\n",
              "Pontuação teste                                853\n",
              "Departmento                                      3\n",
              "Distancia casa-trabalho                         29\n",
              "Educacao                                         5\n",
              "Area                                             6\n",
              "Possui carro                                     1\n",
              "Subordinado                                   1370\n",
              "Satisfação com o ambiente no emprego atual       4\n",
              "Genero                                           2\n",
              "Horas voluntariado                              71\n",
              "Envolvimento com trabalho                        4\n",
              "Posicao                                          5\n",
              "Cargo                                            9\n",
              "Satisfação com emprego                           4\n",
              "Estado civil                                     3\n",
              "Renda                                         1269\n",
              "Bonus de performance                          1329\n",
              "Quantidade de empresas que trabalho             10\n",
              "Maior de idade                                   1\n",
              "Necessita de hora extra                          2\n",
              "Aumento de salario%                             15\n",
              "Performance na entrevista                        2\n",
              "Satisfação com a relação                         4\n",
              "Horas de trabalho padrão                         1\n",
              "Beneficios                                       4\n",
              "Anos de experiencia                             40\n",
              "Horas de treinamento ultimo ano                  7\n",
              "Estilo de vida                                   4\n",
              "Anos na última empresa                          36\n",
              "Anos na posição atual                           19\n",
              "Anos desde última promoção                      16\n",
              "Anos com a mesma gerência                       18\n",
              "Contratar                                        2\n",
              "dtype: int64"
            ]
          },
          "metadata": {},
          "execution_count": 261
        }
      ]
    },
    {
      "cell_type": "markdown",
      "metadata": {
        "id": "MxT0wvp-KFDk",
        "colab_type": "text"
      },
      "source": [
        "### **Análise Descritiva**"
      ]
    },
    {
      "cell_type": "code",
      "metadata": {
        "id": "FWX4ZsP4Jom1",
        "colab_type": "code",
        "colab": {
          "base_uri": "https://localhost:8080/",
          "height": 371
        },
        "outputId": "1c3de028-0f07-4743-921e-8b295519959e"
      },
      "source": [
        "df.describe()"
      ],
      "execution_count": 262,
      "outputs": [
        {
          "output_type": "execute_result",
          "data": {
            "text/plain": [
              "             Idade  Pontuação teste  Distancia casa-trabalho  Possui carro  \\\n",
              "count  1370.000000      1370.000000              1370.000000        1370.0   \n",
              "mean     37.030657       807.249635                 9.105109           1.0   \n",
              "std       9.196528       404.400662                 7.992457           0.0   \n",
              "min      18.000000       102.000000                 1.000000           1.0   \n",
              "25%      30.000000       465.250000                 2.000000           1.0   \n",
              "50%      36.000000       806.000000                 7.000000           1.0   \n",
              "75%      43.000000      1168.750000                14.000000           1.0   \n",
              "max      60.000000      1499.000000                29.000000           1.0   \n",
              "\n",
              "       Subordinado  Satisfação com o ambiente no emprego atual  \\\n",
              "count  1370.000000                                 1370.000000   \n",
              "mean   1012.276642                                    2.729927   \n",
              "std     569.946647                                    1.091863   \n",
              "min       2.000000                                    1.000000   \n",
              "25%     516.250000                                    2.000000   \n",
              "50%    1014.500000                                    3.000000   \n",
              "75%    1512.000000                                    4.000000   \n",
              "max    2055.000000                                    4.000000   \n",
              "\n",
              "       Horas voluntariado  Envolvimento com trabalho      Posicao  \\\n",
              "count         1370.000000                1370.000000  1370.000000   \n",
              "mean            65.807299                   2.745985     2.081752   \n",
              "std             20.389902                   0.706643     1.113974   \n",
              "min             30.000000                   1.000000     1.000000   \n",
              "25%             48.000000                   2.000000     1.000000   \n",
              "50%             66.000000                   3.000000     2.000000   \n",
              "75%             83.000000                   3.000000     3.000000   \n",
              "max            100.000000                   4.000000     5.000000   \n",
              "\n",
              "       Satisfação com emprego  ...  Satisfação com a relação  \\\n",
              "count             1370.000000  ...               1370.000000   \n",
              "mean                 2.723358  ...                  2.720438   \n",
              "std                  1.107829  ...                  1.079704   \n",
              "min                  1.000000  ...                  1.000000   \n",
              "25%                  2.000000  ...                  2.000000   \n",
              "50%                  3.000000  ...                  3.000000   \n",
              "75%                  4.000000  ...                  4.000000   \n",
              "max                  4.000000  ...                  4.000000   \n",
              "\n",
              "       Horas de trabalho padrão   Beneficios  Anos de experiencia  \\\n",
              "count                    1370.0  1370.000000          1370.000000   \n",
              "mean                       80.0     0.804380            11.357664   \n",
              "std                         0.0     0.851919             7.849234   \n",
              "min                        80.0     0.000000             0.000000   \n",
              "25%                        80.0     0.000000             6.000000   \n",
              "50%                        80.0     1.000000            10.000000   \n",
              "75%                        80.0     1.000000            15.000000   \n",
              "max                        80.0     3.000000            40.000000   \n",
              "\n",
              "       Horas de treinamento ultimo ano  Estilo de vida  \\\n",
              "count                      1370.000000     1370.000000   \n",
              "mean                          2.800730        2.769343   \n",
              "std                           1.282745        0.704319   \n",
              "min                           0.000000        1.000000   \n",
              "25%                           2.000000        2.000000   \n",
              "50%                           3.000000        3.000000   \n",
              "75%                           3.000000        3.000000   \n",
              "max                           6.000000        4.000000   \n",
              "\n",
              "       Anos na última empresa  Anos na posição atual  \\\n",
              "count             1370.000000            1370.000000   \n",
              "mean                 7.031387               4.244526   \n",
              "std                  6.127907               3.617897   \n",
              "min                  0.000000               0.000000   \n",
              "25%                  3.000000               2.000000   \n",
              "50%                  5.000000               3.000000   \n",
              "75%                 10.000000               7.000000   \n",
              "max                 37.000000              18.000000   \n",
              "\n",
              "       Anos desde última promoção  Anos com a mesma gerência  \n",
              "count                 1370.000000                1370.000000  \n",
              "mean                     2.206569                   4.141606  \n",
              "std                      3.220930                   3.578049  \n",
              "min                      0.000000                   0.000000  \n",
              "25%                      0.000000                   2.000000  \n",
              "50%                      1.000000                   3.000000  \n",
              "75%                      3.000000                   7.000000  \n",
              "max                     15.000000                  17.000000  \n",
              "\n",
              "[8 rows x 26 columns]"
            ],
            "text/html": "<div>\n<style scoped>\n    .dataframe tbody tr th:only-of-type {\n        vertical-align: middle;\n    }\n\n    .dataframe tbody tr th {\n        vertical-align: top;\n    }\n\n    .dataframe thead th {\n        text-align: right;\n    }\n</style>\n<table border=\"1\" class=\"dataframe\">\n  <thead>\n    <tr style=\"text-align: right;\">\n      <th></th>\n      <th>Idade</th>\n      <th>Pontuação teste</th>\n      <th>Distancia casa-trabalho</th>\n      <th>Possui carro</th>\n      <th>Subordinado</th>\n      <th>Satisfação com o ambiente no emprego atual</th>\n      <th>Horas voluntariado</th>\n      <th>Envolvimento com trabalho</th>\n      <th>Posicao</th>\n      <th>Satisfação com emprego</th>\n      <th>...</th>\n      <th>Satisfação com a relação</th>\n      <th>Horas de trabalho padrão</th>\n      <th>Beneficios</th>\n      <th>Anos de experiencia</th>\n      <th>Horas de treinamento ultimo ano</th>\n      <th>Estilo de vida</th>\n      <th>Anos na última empresa</th>\n      <th>Anos na posição atual</th>\n      <th>Anos desde última promoção</th>\n      <th>Anos com a mesma gerência</th>\n    </tr>\n  </thead>\n  <tbody>\n    <tr>\n      <th>count</th>\n      <td>1370.000000</td>\n      <td>1370.000000</td>\n      <td>1370.000000</td>\n      <td>1370.0</td>\n      <td>1370.000000</td>\n      <td>1370.000000</td>\n      <td>1370.000000</td>\n      <td>1370.000000</td>\n      <td>1370.000000</td>\n      <td>1370.000000</td>\n      <td>...</td>\n      <td>1370.000000</td>\n      <td>1370.0</td>\n      <td>1370.000000</td>\n      <td>1370.000000</td>\n      <td>1370.000000</td>\n      <td>1370.000000</td>\n      <td>1370.000000</td>\n      <td>1370.000000</td>\n      <td>1370.000000</td>\n      <td>1370.000000</td>\n    </tr>\n    <tr>\n      <th>mean</th>\n      <td>37.030657</td>\n      <td>807.249635</td>\n      <td>9.105109</td>\n      <td>1.0</td>\n      <td>1012.276642</td>\n      <td>2.729927</td>\n      <td>65.807299</td>\n      <td>2.745985</td>\n      <td>2.081752</td>\n      <td>2.723358</td>\n      <td>...</td>\n      <td>2.720438</td>\n      <td>80.0</td>\n      <td>0.804380</td>\n      <td>11.357664</td>\n      <td>2.800730</td>\n      <td>2.769343</td>\n      <td>7.031387</td>\n      <td>4.244526</td>\n      <td>2.206569</td>\n      <td>4.141606</td>\n    </tr>\n    <tr>\n      <th>std</th>\n      <td>9.196528</td>\n      <td>404.400662</td>\n      <td>7.992457</td>\n      <td>0.0</td>\n      <td>569.946647</td>\n      <td>1.091863</td>\n      <td>20.389902</td>\n      <td>0.706643</td>\n      <td>1.113974</td>\n      <td>1.107829</td>\n      <td>...</td>\n      <td>1.079704</td>\n      <td>0.0</td>\n      <td>0.851919</td>\n      <td>7.849234</td>\n      <td>1.282745</td>\n      <td>0.704319</td>\n      <td>6.127907</td>\n      <td>3.617897</td>\n      <td>3.220930</td>\n      <td>3.578049</td>\n    </tr>\n    <tr>\n      <th>min</th>\n      <td>18.000000</td>\n      <td>102.000000</td>\n      <td>1.000000</td>\n      <td>1.0</td>\n      <td>2.000000</td>\n      <td>1.000000</td>\n      <td>30.000000</td>\n      <td>1.000000</td>\n      <td>1.000000</td>\n      <td>1.000000</td>\n      <td>...</td>\n      <td>1.000000</td>\n      <td>80.0</td>\n      <td>0.000000</td>\n      <td>0.000000</td>\n      <td>0.000000</td>\n      <td>1.000000</td>\n      <td>0.000000</td>\n      <td>0.000000</td>\n      <td>0.000000</td>\n      <td>0.000000</td>\n    </tr>\n    <tr>\n      <th>25%</th>\n      <td>30.000000</td>\n      <td>465.250000</td>\n      <td>2.000000</td>\n      <td>1.0</td>\n      <td>516.250000</td>\n      <td>2.000000</td>\n      <td>48.000000</td>\n      <td>2.000000</td>\n      <td>1.000000</td>\n      <td>2.000000</td>\n      <td>...</td>\n      <td>2.000000</td>\n      <td>80.0</td>\n      <td>0.000000</td>\n      <td>6.000000</td>\n      <td>2.000000</td>\n      <td>2.000000</td>\n      <td>3.000000</td>\n      <td>2.000000</td>\n      <td>0.000000</td>\n      <td>2.000000</td>\n    </tr>\n    <tr>\n      <th>50%</th>\n      <td>36.000000</td>\n      <td>806.000000</td>\n      <td>7.000000</td>\n      <td>1.0</td>\n      <td>1014.500000</td>\n      <td>3.000000</td>\n      <td>66.000000</td>\n      <td>3.000000</td>\n      <td>2.000000</td>\n      <td>3.000000</td>\n      <td>...</td>\n      <td>3.000000</td>\n      <td>80.0</td>\n      <td>1.000000</td>\n      <td>10.000000</td>\n      <td>3.000000</td>\n      <td>3.000000</td>\n      <td>5.000000</td>\n      <td>3.000000</td>\n      <td>1.000000</td>\n      <td>3.000000</td>\n    </tr>\n    <tr>\n      <th>75%</th>\n      <td>43.000000</td>\n      <td>1168.750000</td>\n      <td>14.000000</td>\n      <td>1.0</td>\n      <td>1512.000000</td>\n      <td>4.000000</td>\n      <td>83.000000</td>\n      <td>3.000000</td>\n      <td>3.000000</td>\n      <td>4.000000</td>\n      <td>...</td>\n      <td>4.000000</td>\n      <td>80.0</td>\n      <td>1.000000</td>\n      <td>15.000000</td>\n      <td>3.000000</td>\n      <td>3.000000</td>\n      <td>10.000000</td>\n      <td>7.000000</td>\n      <td>3.000000</td>\n      <td>7.000000</td>\n    </tr>\n    <tr>\n      <th>max</th>\n      <td>60.000000</td>\n      <td>1499.000000</td>\n      <td>29.000000</td>\n      <td>1.0</td>\n      <td>2055.000000</td>\n      <td>4.000000</td>\n      <td>100.000000</td>\n      <td>4.000000</td>\n      <td>5.000000</td>\n      <td>4.000000</td>\n      <td>...</td>\n      <td>4.000000</td>\n      <td>80.0</td>\n      <td>3.000000</td>\n      <td>40.000000</td>\n      <td>6.000000</td>\n      <td>4.000000</td>\n      <td>37.000000</td>\n      <td>18.000000</td>\n      <td>15.000000</td>\n      <td>17.000000</td>\n    </tr>\n  </tbody>\n</table>\n<p>8 rows × 26 columns</p>\n</div>"
          },
          "metadata": {},
          "execution_count": 262
        }
      ]
    },
    {
      "cell_type": "code",
      "metadata": {
        "id": "V7oUccxSKKrw",
        "colab_type": "code",
        "colab": {
          "base_uri": "https://localhost:8080/",
          "height": 400
        },
        "outputId": "68303fea-0fff-4241-e794-5c4df5c89c81"
      },
      "source": [
        "df.tail()"
      ],
      "execution_count": 263,
      "outputs": [
        {
          "output_type": "execute_result",
          "data": {
            "text/plain": [
              "      Idade Local de trabalho  Pontuação teste Departmento  \\\n",
              "1365     23             Misto              638      Vendas   \n",
              "1366     29             Misto             1092  Engenharia   \n",
              "1367     56           Cliente              310  Engenharia   \n",
              "1368     50             Misto              878      Vendas   \n",
              "1369     50           Cliente              410      Vendas   \n",
              "\n",
              "      Distancia casa-trabalho                        Educacao  \\\n",
              "1365                        9               Superior completo   \n",
              "1366                        1  Superior incompleto - cursando   \n",
              "1367                        7             Superior incompleto   \n",
              "1368                        1  Superior incompleto - cursando   \n",
              "1369                       28               Superior completo   \n",
              "\n",
              "                       Area  Possui carro  Subordinado  \\\n",
              "1365              Marketing             1         2023   \n",
              "1366               Medicina             1         2027   \n",
              "1367      Faculdade Técnica             1         2032   \n",
              "1368  Ciências das natureza             1         2044   \n",
              "1369              Marketing             1         2055   \n",
              "\n",
              "      Satisfação com o ambiente no emprego atual  ...  \\\n",
              "1365                                           4  ...   \n",
              "1366                                           1  ...   \n",
              "1367                                           4  ...   \n",
              "1368                                           2  ...   \n",
              "1369                                           4  ...   \n",
              "\n",
              "     Horas de trabalho padrão  Beneficios  Anos de experiencia  \\\n",
              "1365                       80           1                    1   \n",
              "1366                       80           3                    4   \n",
              "1367                       80           1                   14   \n",
              "1368                       80           2                   12   \n",
              "1369                       80           1                   20   \n",
              "\n",
              "      Horas de treinamento ultimo ano Estilo de vida  Anos na última empresa  \\\n",
              "1365                                3              2                       1   \n",
              "1366                                3              4                       2   \n",
              "1367                                4              1                      10   \n",
              "1368                                3              3                       6   \n",
              "1369                                3              3                       3   \n",
              "\n",
              "     Anos na posição atual  Anos desde última promoção  \\\n",
              "1365                     0                           1   \n",
              "1366                     2                           2   \n",
              "1367                     9                           9   \n",
              "1368                     3                           0   \n",
              "1369                     2                           2   \n",
              "\n",
              "      Anos com a mesma gerência  Contratar  \n",
              "1365                          0        Sim  \n",
              "1366                          2        Sim  \n",
              "1367                          8        Sim  \n",
              "1368                          1        Sim  \n",
              "1369                          0        Sim  \n",
              "\n",
              "[5 rows x 35 columns]"
            ],
            "text/html": "<div>\n<style scoped>\n    .dataframe tbody tr th:only-of-type {\n        vertical-align: middle;\n    }\n\n    .dataframe tbody tr th {\n        vertical-align: top;\n    }\n\n    .dataframe thead th {\n        text-align: right;\n    }\n</style>\n<table border=\"1\" class=\"dataframe\">\n  <thead>\n    <tr style=\"text-align: right;\">\n      <th></th>\n      <th>Idade</th>\n      <th>Local de trabalho</th>\n      <th>Pontuação teste</th>\n      <th>Departmento</th>\n      <th>Distancia casa-trabalho</th>\n      <th>Educacao</th>\n      <th>Area</th>\n      <th>Possui carro</th>\n      <th>Subordinado</th>\n      <th>Satisfação com o ambiente no emprego atual</th>\n      <th>...</th>\n      <th>Horas de trabalho padrão</th>\n      <th>Beneficios</th>\n      <th>Anos de experiencia</th>\n      <th>Horas de treinamento ultimo ano</th>\n      <th>Estilo de vida</th>\n      <th>Anos na última empresa</th>\n      <th>Anos na posição atual</th>\n      <th>Anos desde última promoção</th>\n      <th>Anos com a mesma gerência</th>\n      <th>Contratar</th>\n    </tr>\n  </thead>\n  <tbody>\n    <tr>\n      <th>1365</th>\n      <td>23</td>\n      <td>Misto</td>\n      <td>638</td>\n      <td>Vendas</td>\n      <td>9</td>\n      <td>Superior completo</td>\n      <td>Marketing</td>\n      <td>1</td>\n      <td>2023</td>\n      <td>4</td>\n      <td>...</td>\n      <td>80</td>\n      <td>1</td>\n      <td>1</td>\n      <td>3</td>\n      <td>2</td>\n      <td>1</td>\n      <td>0</td>\n      <td>1</td>\n      <td>0</td>\n      <td>Sim</td>\n    </tr>\n    <tr>\n      <th>1366</th>\n      <td>29</td>\n      <td>Misto</td>\n      <td>1092</td>\n      <td>Engenharia</td>\n      <td>1</td>\n      <td>Superior incompleto - cursando</td>\n      <td>Medicina</td>\n      <td>1</td>\n      <td>2027</td>\n      <td>1</td>\n      <td>...</td>\n      <td>80</td>\n      <td>3</td>\n      <td>4</td>\n      <td>3</td>\n      <td>4</td>\n      <td>2</td>\n      <td>2</td>\n      <td>2</td>\n      <td>2</td>\n      <td>Sim</td>\n    </tr>\n    <tr>\n      <th>1367</th>\n      <td>56</td>\n      <td>Cliente</td>\n      <td>310</td>\n      <td>Engenharia</td>\n      <td>7</td>\n      <td>Superior incompleto</td>\n      <td>Faculdade Técnica</td>\n      <td>1</td>\n      <td>2032</td>\n      <td>4</td>\n      <td>...</td>\n      <td>80</td>\n      <td>1</td>\n      <td>14</td>\n      <td>4</td>\n      <td>1</td>\n      <td>10</td>\n      <td>9</td>\n      <td>9</td>\n      <td>8</td>\n      <td>Sim</td>\n    </tr>\n    <tr>\n      <th>1368</th>\n      <td>50</td>\n      <td>Misto</td>\n      <td>878</td>\n      <td>Vendas</td>\n      <td>1</td>\n      <td>Superior incompleto - cursando</td>\n      <td>Ciências das natureza</td>\n      <td>1</td>\n      <td>2044</td>\n      <td>2</td>\n      <td>...</td>\n      <td>80</td>\n      <td>2</td>\n      <td>12</td>\n      <td>3</td>\n      <td>3</td>\n      <td>6</td>\n      <td>3</td>\n      <td>0</td>\n      <td>1</td>\n      <td>Sim</td>\n    </tr>\n    <tr>\n      <th>1369</th>\n      <td>50</td>\n      <td>Cliente</td>\n      <td>410</td>\n      <td>Vendas</td>\n      <td>28</td>\n      <td>Superior completo</td>\n      <td>Marketing</td>\n      <td>1</td>\n      <td>2055</td>\n      <td>4</td>\n      <td>...</td>\n      <td>80</td>\n      <td>1</td>\n      <td>20</td>\n      <td>3</td>\n      <td>3</td>\n      <td>3</td>\n      <td>2</td>\n      <td>2</td>\n      <td>0</td>\n      <td>Sim</td>\n    </tr>\n  </tbody>\n</table>\n<p>5 rows × 35 columns</p>\n</div>"
          },
          "metadata": {},
          "execution_count": 263
        }
      ]
    },
    {
      "cell_type": "markdown",
      "metadata": {
        "id": "B1MMc5OvKX2T",
        "colab_type": "text"
      },
      "source": [
        "## **Pré-processamento**\n"
      ]
    },
    {
      "cell_type": "code",
      "metadata": {
        "id": "ytYcgOK2Kff8",
        "colab_type": "code",
        "colab": {}
      },
      "source": [
        "# Dropando colunas que nao nos e necessaria\n",
        "df = df.drop(columns=['Idade', 'Estado civil', 'Renda', 'Maior de idade', 'Genero'])"
      ],
      "execution_count": 264,
      "outputs": []
    },
    {
      "cell_type": "code",
      "metadata": {
        "id": "jCZE89l6S1qq",
        "colab_type": "code",
        "colab": {
          "base_uri": "https://localhost:8080/",
          "height": 400
        },
        "outputId": "e6f7e21e-f8cb-460d-859b-7e8401447005"
      },
      "source": [
        "df.tail()"
      ],
      "execution_count": 265,
      "outputs": [
        {
          "output_type": "execute_result",
          "data": {
            "text/plain": [
              "     Local de trabalho  Pontuação teste Departmento  Distancia casa-trabalho  \\\n",
              "1365             Misto              638      Vendas                        9   \n",
              "1366             Misto             1092  Engenharia                        1   \n",
              "1367           Cliente              310  Engenharia                        7   \n",
              "1368             Misto              878      Vendas                        1   \n",
              "1369           Cliente              410      Vendas                       28   \n",
              "\n",
              "                            Educacao                   Area  Possui carro  \\\n",
              "1365               Superior completo              Marketing             1   \n",
              "1366  Superior incompleto - cursando               Medicina             1   \n",
              "1367             Superior incompleto      Faculdade Técnica             1   \n",
              "1368  Superior incompleto - cursando  Ciências das natureza             1   \n",
              "1369               Superior completo              Marketing             1   \n",
              "\n",
              "      Subordinado  Satisfação com o ambiente no emprego atual  \\\n",
              "1365         2023                                           4   \n",
              "1366         2027                                           1   \n",
              "1367         2032                                           4   \n",
              "1368         2044                                           2   \n",
              "1369         2055                                           4   \n",
              "\n",
              "      Horas voluntariado  ...  Horas de trabalho padrão  Beneficios  \\\n",
              "1365                  33  ...                        80           1   \n",
              "1366                  36  ...                        80           3   \n",
              "1367                  72  ...                        80           1   \n",
              "1368                  94  ...                        80           2   \n",
              "1369                  39  ...                        80           1   \n",
              "\n",
              "     Anos de experiencia  Horas de treinamento ultimo ano  Estilo de vida  \\\n",
              "1365                   1                                3               2   \n",
              "1366                   4                                3               4   \n",
              "1367                  14                                4               1   \n",
              "1368                  12                                3               3   \n",
              "1369                  20                                3               3   \n",
              "\n",
              "      Anos na última empresa Anos na posição atual  \\\n",
              "1365                       1                     0   \n",
              "1366                       2                     2   \n",
              "1367                      10                     9   \n",
              "1368                       6                     3   \n",
              "1369                       3                     2   \n",
              "\n",
              "      Anos desde última promoção  Anos com a mesma gerência  Contratar  \n",
              "1365                           1                          0        Sim  \n",
              "1366                           2                          2        Sim  \n",
              "1367                           9                          8        Sim  \n",
              "1368                           0                          1        Sim  \n",
              "1369                           2                          0        Sim  \n",
              "\n",
              "[5 rows x 30 columns]"
            ],
            "text/html": "<div>\n<style scoped>\n    .dataframe tbody tr th:only-of-type {\n        vertical-align: middle;\n    }\n\n    .dataframe tbody tr th {\n        vertical-align: top;\n    }\n\n    .dataframe thead th {\n        text-align: right;\n    }\n</style>\n<table border=\"1\" class=\"dataframe\">\n  <thead>\n    <tr style=\"text-align: right;\">\n      <th></th>\n      <th>Local de trabalho</th>\n      <th>Pontuação teste</th>\n      <th>Departmento</th>\n      <th>Distancia casa-trabalho</th>\n      <th>Educacao</th>\n      <th>Area</th>\n      <th>Possui carro</th>\n      <th>Subordinado</th>\n      <th>Satisfação com o ambiente no emprego atual</th>\n      <th>Horas voluntariado</th>\n      <th>...</th>\n      <th>Horas de trabalho padrão</th>\n      <th>Beneficios</th>\n      <th>Anos de experiencia</th>\n      <th>Horas de treinamento ultimo ano</th>\n      <th>Estilo de vida</th>\n      <th>Anos na última empresa</th>\n      <th>Anos na posição atual</th>\n      <th>Anos desde última promoção</th>\n      <th>Anos com a mesma gerência</th>\n      <th>Contratar</th>\n    </tr>\n  </thead>\n  <tbody>\n    <tr>\n      <th>1365</th>\n      <td>Misto</td>\n      <td>638</td>\n      <td>Vendas</td>\n      <td>9</td>\n      <td>Superior completo</td>\n      <td>Marketing</td>\n      <td>1</td>\n      <td>2023</td>\n      <td>4</td>\n      <td>33</td>\n      <td>...</td>\n      <td>80</td>\n      <td>1</td>\n      <td>1</td>\n      <td>3</td>\n      <td>2</td>\n      <td>1</td>\n      <td>0</td>\n      <td>1</td>\n      <td>0</td>\n      <td>Sim</td>\n    </tr>\n    <tr>\n      <th>1366</th>\n      <td>Misto</td>\n      <td>1092</td>\n      <td>Engenharia</td>\n      <td>1</td>\n      <td>Superior incompleto - cursando</td>\n      <td>Medicina</td>\n      <td>1</td>\n      <td>2027</td>\n      <td>1</td>\n      <td>36</td>\n      <td>...</td>\n      <td>80</td>\n      <td>3</td>\n      <td>4</td>\n      <td>3</td>\n      <td>4</td>\n      <td>2</td>\n      <td>2</td>\n      <td>2</td>\n      <td>2</td>\n      <td>Sim</td>\n    </tr>\n    <tr>\n      <th>1367</th>\n      <td>Cliente</td>\n      <td>310</td>\n      <td>Engenharia</td>\n      <td>7</td>\n      <td>Superior incompleto</td>\n      <td>Faculdade Técnica</td>\n      <td>1</td>\n      <td>2032</td>\n      <td>4</td>\n      <td>72</td>\n      <td>...</td>\n      <td>80</td>\n      <td>1</td>\n      <td>14</td>\n      <td>4</td>\n      <td>1</td>\n      <td>10</td>\n      <td>9</td>\n      <td>9</td>\n      <td>8</td>\n      <td>Sim</td>\n    </tr>\n    <tr>\n      <th>1368</th>\n      <td>Misto</td>\n      <td>878</td>\n      <td>Vendas</td>\n      <td>1</td>\n      <td>Superior incompleto - cursando</td>\n      <td>Ciências das natureza</td>\n      <td>1</td>\n      <td>2044</td>\n      <td>2</td>\n      <td>94</td>\n      <td>...</td>\n      <td>80</td>\n      <td>2</td>\n      <td>12</td>\n      <td>3</td>\n      <td>3</td>\n      <td>6</td>\n      <td>3</td>\n      <td>0</td>\n      <td>1</td>\n      <td>Sim</td>\n    </tr>\n    <tr>\n      <th>1369</th>\n      <td>Cliente</td>\n      <td>410</td>\n      <td>Vendas</td>\n      <td>28</td>\n      <td>Superior completo</td>\n      <td>Marketing</td>\n      <td>1</td>\n      <td>2055</td>\n      <td>4</td>\n      <td>39</td>\n      <td>...</td>\n      <td>80</td>\n      <td>1</td>\n      <td>20</td>\n      <td>3</td>\n      <td>3</td>\n      <td>3</td>\n      <td>2</td>\n      <td>2</td>\n      <td>0</td>\n      <td>Sim</td>\n    </tr>\n  </tbody>\n</table>\n<p>5 rows × 30 columns</p>\n</div>"
          },
          "metadata": {},
          "execution_count": 265
        }
      ]
    },
    {
      "cell_type": "code",
      "metadata": {
        "id": "_DEMIhkqTTxI",
        "colab_type": "code",
        "colab": {
          "base_uri": "https://localhost:8080/",
          "height": 218
        },
        "outputId": "9c3bcf9a-d0d3-4946-d84f-4598933777f6"
      },
      "source": [
        "df.columns"
      ],
      "execution_count": 266,
      "outputs": [
        {
          "output_type": "execute_result",
          "data": {
            "text/plain": [
              "Index(['Local de trabalho', 'Pontuação teste', 'Departmento',\n",
              "       'Distancia casa-trabalho', 'Educacao', 'Area', 'Possui carro',\n",
              "       'Subordinado', 'Satisfação com o ambiente no emprego atual',\n",
              "       'Horas voluntariado', 'Envolvimento com trabalho', 'Posicao', 'Cargo',\n",
              "       'Satisfação com emprego', 'Bonus de performance',\n",
              "       'Quantidade de empresas que trabalho', 'Necessita de hora extra',\n",
              "       'Aumento de salario%', 'Performance na entrevista',\n",
              "       'Satisfação com a relação', 'Horas de trabalho padrão', 'Beneficios',\n",
              "       'Anos de experiencia', 'Horas de treinamento ultimo ano',\n",
              "       'Estilo de vida', 'Anos na última empresa', 'Anos na posição atual',\n",
              "       'Anos desde última promoção', 'Anos com a mesma gerência', 'Contratar'],\n",
              "      dtype='object')"
            ]
          },
          "metadata": {},
          "execution_count": 266
        }
      ]
    },
    {
      "cell_type": "code",
      "metadata": {
        "id": "fb4dG32QY1u4",
        "colab_type": "code",
        "colab": {}
      },
      "source": [
        "df.isnull().sum()"
      ],
      "execution_count": 267,
      "outputs": [
        {
          "output_type": "execute_result",
          "data": {
            "text/plain": [
              "Local de trabalho                             0\n",
              "Pontuação teste                               0\n",
              "Departmento                                   0\n",
              "Distancia casa-trabalho                       0\n",
              "Educacao                                      0\n",
              "Area                                          0\n",
              "Possui carro                                  0\n",
              "Subordinado                                   0\n",
              "Satisfação com o ambiente no emprego atual    0\n",
              "Horas voluntariado                            0\n",
              "Envolvimento com trabalho                     0\n",
              "Posicao                                       0\n",
              "Cargo                                         0\n",
              "Satisfação com emprego                        0\n",
              "Bonus de performance                          0\n",
              "Quantidade de empresas que trabalho           0\n",
              "Necessita de hora extra                       0\n",
              "Aumento de salario%                           0\n",
              "Performance na entrevista                     0\n",
              "Satisfação com a relação                      0\n",
              "Horas de trabalho padrão                      0\n",
              "Beneficios                                    0\n",
              "Anos de experiencia                           0\n",
              "Horas de treinamento ultimo ano               0\n",
              "Estilo de vida                                0\n",
              "Anos na última empresa                        0\n",
              "Anos na posição atual                         0\n",
              "Anos desde última promoção                    0\n",
              "Anos com a mesma gerência                     0\n",
              "Contratar                                     0\n",
              "dtype: int64"
            ]
          },
          "metadata": {},
          "execution_count": 267
        }
      ]
    },
    {
      "cell_type": "markdown",
      "metadata": {
        "id": "vziWIQAya9pm",
        "colab_type": "text"
      },
      "source": [
        "### **Criando o modelo**"
      ]
    },
    {
      "cell_type": "code",
      "execution_count": 268,
      "metadata": {},
      "outputs": [
        {
          "output_type": "stream",
          "name": "stdout",
          "text": [
            "<class 'pandas.core.frame.DataFrame'>\nRangeIndex: 1370 entries, 0 to 1369\nData columns (total 30 columns):\n #   Column                                      Non-Null Count  Dtype \n---  ------                                      --------------  ----- \n 0   Local de trabalho                           1370 non-null   object\n 1   Pontuação teste                             1370 non-null   int64 \n 2   Departmento                                 1370 non-null   object\n 3   Distancia casa-trabalho                     1370 non-null   int64 \n 4   Educacao                                    1370 non-null   object\n 5   Area                                        1370 non-null   object\n 6   Possui carro                                1370 non-null   int64 \n 7   Subordinado                                 1370 non-null   int64 \n 8   Satisfação com o ambiente no emprego atual  1370 non-null   int64 \n 9   Horas voluntariado                          1370 non-null   int64 \n 10  Envolvimento com trabalho                   1370 non-null   int64 \n 11  Posicao                                     1370 non-null   int64 \n 12  Cargo                                       1370 non-null   object\n 13  Satisfação com emprego                      1370 non-null   int64 \n 14  Bonus de performance                        1370 non-null   int64 \n 15  Quantidade de empresas que trabalho         1370 non-null   int64 \n 16  Necessita de hora extra                     1370 non-null   object\n 17  Aumento de salario%                         1370 non-null   int64 \n 18  Performance na entrevista                   1370 non-null   int64 \n 19  Satisfação com a relação                    1370 non-null   int64 \n 20  Horas de trabalho padrão                    1370 non-null   int64 \n 21  Beneficios                                  1370 non-null   int64 \n 22  Anos de experiencia                         1370 non-null   int64 \n 23  Horas de treinamento ultimo ano             1370 non-null   int64 \n 24  Estilo de vida                              1370 non-null   int64 \n 25  Anos na última empresa                      1370 non-null   int64 \n 26  Anos na posição atual                       1370 non-null   int64 \n 27  Anos desde última promoção                  1370 non-null   int64 \n 28  Anos com a mesma gerência                   1370 non-null   int64 \n 29  Contratar                                   1370 non-null   object\ndtypes: int64(23), object(7)\nmemory usage: 321.2+ KB\n"
          ]
        }
      ],
      "source": [
        "df.info()"
      ]
    },
    {
      "cell_type": "code",
      "execution_count": 269,
      "metadata": {},
      "outputs": [],
      "source": [
        "columns = ['Contratar','Local de trabalho','Pontuação teste', 'Departmento',\n",
        "       'Distancia casa-trabalho', 'Educacao', 'Area', 'Possui carro',\n",
        "       'Subordinado', 'Satisfação com o ambiente no emprego atual',\n",
        "       'Horas voluntariado', 'Envolvimento com trabalho', 'Posicao', 'Cargo',\n",
        "       'Satisfação com emprego', 'Bonus de performance',\n",
        "       'Quantidade de empresas que trabalho', 'Necessita de hora extra',\n",
        "       'Aumento de salario%', 'Performance na entrevista',\n",
        "       'Satisfação com a relação', 'Horas de trabalho padrão', 'Beneficios',\n",
        "       'Anos de experiencia', 'Horas de treinamento ultimo ano',\n",
        "       'Estilo de vida', 'Anos na última empresa', 'Anos na posição atual',\n",
        "       'Anos desde última promoção', 'Anos com a mesma gerência'\n",
        "]"
      ]
    },
    {
      "cell_type": "code",
      "execution_count": 270,
      "metadata": {},
      "outputs": [],
      "source": [
        "df = pd.get_dummies(df, columns=columns)"
      ]
    },
    {
      "cell_type": "code",
      "execution_count": 271,
      "metadata": {},
      "outputs": [
        {
          "output_type": "execute_result",
          "data": {
            "text/plain": [
              "   Contratar_Não  Contratar_Sim  Local de trabalho_Cliente  \\\n",
              "0              1              0                          1   \n",
              "1              1              0                          0   \n",
              "2              1              0                          1   \n",
              "3              1              0                          0   \n",
              "4              1              0                          0   \n",
              "\n",
              "   Local de trabalho_Escritório  Local de trabalho_Misto  Pontuação teste_102  \\\n",
              "0                             0                        0                    0   \n",
              "1                             0                        1                    0   \n",
              "2                             0                        0                    0   \n",
              "3                             0                        1                    0   \n",
              "4                             0                        1                    0   \n",
              "\n",
              "   Pontuação teste_104  Pontuação teste_106  Pontuação teste_107  \\\n",
              "0                    0                    0                    0   \n",
              "1                    0                    0                    0   \n",
              "2                    0                    0                    0   \n",
              "3                    0                    0                    0   \n",
              "4                    0                    0                    0   \n",
              "\n",
              "   Pontuação teste_109  ...  Anos com a mesma gerência_8  \\\n",
              "0                    0  ...                            0   \n",
              "1                    0  ...                            0   \n",
              "2                    0  ...                            0   \n",
              "3                    0  ...                            0   \n",
              "4                    0  ...                            0   \n",
              "\n",
              "   Anos com a mesma gerência_9  Anos com a mesma gerência_10  \\\n",
              "0                            0                             0   \n",
              "1                            0                             0   \n",
              "2                            0                             0   \n",
              "3                            0                             0   \n",
              "4                            0                             0   \n",
              "\n",
              "   Anos com a mesma gerência_11  Anos com a mesma gerência_12  \\\n",
              "0                             0                             0   \n",
              "1                             0                             0   \n",
              "2                             0                             0   \n",
              "3                             0                             0   \n",
              "4                             0                             0   \n",
              "\n",
              "   Anos com a mesma gerência_13  Anos com a mesma gerência_14  \\\n",
              "0                             0                             0   \n",
              "1                             0                             0   \n",
              "2                             0                             0   \n",
              "3                             0                             0   \n",
              "4                             0                             0   \n",
              "\n",
              "   Anos com a mesma gerência_15  Anos com a mesma gerência_16  \\\n",
              "0                             0                             0   \n",
              "1                             0                             0   \n",
              "2                             0                             0   \n",
              "3                             0                             0   \n",
              "4                             0                             0   \n",
              "\n",
              "   Anos com a mesma gerência_17  \n",
              "0                             0  \n",
              "1                             0  \n",
              "2                             0  \n",
              "3                             0  \n",
              "4                             0  \n",
              "\n",
              "[5 rows x 3876 columns]"
            ],
            "text/html": "<div>\n<style scoped>\n    .dataframe tbody tr th:only-of-type {\n        vertical-align: middle;\n    }\n\n    .dataframe tbody tr th {\n        vertical-align: top;\n    }\n\n    .dataframe thead th {\n        text-align: right;\n    }\n</style>\n<table border=\"1\" class=\"dataframe\">\n  <thead>\n    <tr style=\"text-align: right;\">\n      <th></th>\n      <th>Contratar_Não</th>\n      <th>Contratar_Sim</th>\n      <th>Local de trabalho_Cliente</th>\n      <th>Local de trabalho_Escritório</th>\n      <th>Local de trabalho_Misto</th>\n      <th>Pontuação teste_102</th>\n      <th>Pontuação teste_104</th>\n      <th>Pontuação teste_106</th>\n      <th>Pontuação teste_107</th>\n      <th>Pontuação teste_109</th>\n      <th>...</th>\n      <th>Anos com a mesma gerência_8</th>\n      <th>Anos com a mesma gerência_9</th>\n      <th>Anos com a mesma gerência_10</th>\n      <th>Anos com a mesma gerência_11</th>\n      <th>Anos com a mesma gerência_12</th>\n      <th>Anos com a mesma gerência_13</th>\n      <th>Anos com a mesma gerência_14</th>\n      <th>Anos com a mesma gerência_15</th>\n      <th>Anos com a mesma gerência_16</th>\n      <th>Anos com a mesma gerência_17</th>\n    </tr>\n  </thead>\n  <tbody>\n    <tr>\n      <th>0</th>\n      <td>1</td>\n      <td>0</td>\n      <td>1</td>\n      <td>0</td>\n      <td>0</td>\n      <td>0</td>\n      <td>0</td>\n      <td>0</td>\n      <td>0</td>\n      <td>0</td>\n      <td>...</td>\n      <td>0</td>\n      <td>0</td>\n      <td>0</td>\n      <td>0</td>\n      <td>0</td>\n      <td>0</td>\n      <td>0</td>\n      <td>0</td>\n      <td>0</td>\n      <td>0</td>\n    </tr>\n    <tr>\n      <th>1</th>\n      <td>1</td>\n      <td>0</td>\n      <td>0</td>\n      <td>0</td>\n      <td>1</td>\n      <td>0</td>\n      <td>0</td>\n      <td>0</td>\n      <td>0</td>\n      <td>0</td>\n      <td>...</td>\n      <td>0</td>\n      <td>0</td>\n      <td>0</td>\n      <td>0</td>\n      <td>0</td>\n      <td>0</td>\n      <td>0</td>\n      <td>0</td>\n      <td>0</td>\n      <td>0</td>\n    </tr>\n    <tr>\n      <th>2</th>\n      <td>1</td>\n      <td>0</td>\n      <td>1</td>\n      <td>0</td>\n      <td>0</td>\n      <td>0</td>\n      <td>0</td>\n      <td>0</td>\n      <td>0</td>\n      <td>0</td>\n      <td>...</td>\n      <td>0</td>\n      <td>0</td>\n      <td>0</td>\n      <td>0</td>\n      <td>0</td>\n      <td>0</td>\n      <td>0</td>\n      <td>0</td>\n      <td>0</td>\n      <td>0</td>\n    </tr>\n    <tr>\n      <th>3</th>\n      <td>1</td>\n      <td>0</td>\n      <td>0</td>\n      <td>0</td>\n      <td>1</td>\n      <td>0</td>\n      <td>0</td>\n      <td>0</td>\n      <td>0</td>\n      <td>0</td>\n      <td>...</td>\n      <td>0</td>\n      <td>0</td>\n      <td>0</td>\n      <td>0</td>\n      <td>0</td>\n      <td>0</td>\n      <td>0</td>\n      <td>0</td>\n      <td>0</td>\n      <td>0</td>\n    </tr>\n    <tr>\n      <th>4</th>\n      <td>1</td>\n      <td>0</td>\n      <td>0</td>\n      <td>0</td>\n      <td>1</td>\n      <td>0</td>\n      <td>0</td>\n      <td>0</td>\n      <td>0</td>\n      <td>0</td>\n      <td>...</td>\n      <td>0</td>\n      <td>0</td>\n      <td>0</td>\n      <td>0</td>\n      <td>0</td>\n      <td>0</td>\n      <td>0</td>\n      <td>0</td>\n      <td>0</td>\n      <td>0</td>\n    </tr>\n  </tbody>\n</table>\n<p>5 rows × 3876 columns</p>\n</div>"
          },
          "metadata": {},
          "execution_count": 271
        }
      ],
      "source": [
        "df.head()"
      ]
    },
    {
      "cell_type": "code",
      "execution_count": 275,
      "metadata": {},
      "outputs": [],
      "source": [
        "# Criando uma lista com todas as colunas da feature\n",
        "features = []\n",
        "for col in df.columns:\n",
        "    features.append(col)"
      ]
    },
    {
      "cell_type": "code",
      "execution_count": 277,
      "metadata": {},
      "outputs": [],
      "source": [
        "# Selecionando as colunas features e target\n",
        "target = features[:2]\n",
        "features = features[2::]"
      ]
    },
    {
      "cell_type": "code",
      "execution_count": 278,
      "metadata": {},
      "outputs": [
        {
          "output_type": "execute_result",
          "data": {
            "text/plain": [
              "['Contratar_Não', 'Contratar_Sim']"
            ]
          },
          "metadata": {},
          "execution_count": 278
        }
      ],
      "source": [
        "target"
      ]
    },
    {
      "cell_type": "code",
      "execution_count": 280,
      "metadata": {},
      "outputs": [],
      "source": [
        "X = df[features]\n",
        "y = df[target]"
      ]
    },
    {
      "cell_type": "code",
      "execution_count": 281,
      "metadata": {},
      "outputs": [
        {
          "output_type": "execute_result",
          "data": {
            "text/plain": [
              "   Contratar_Não  Contratar_Sim\n",
              "0              1              0\n",
              "1              1              0\n",
              "2              1              0\n",
              "3              1              0\n",
              "4              1              0"
            ],
            "text/html": "<div>\n<style scoped>\n    .dataframe tbody tr th:only-of-type {\n        vertical-align: middle;\n    }\n\n    .dataframe tbody tr th {\n        vertical-align: top;\n    }\n\n    .dataframe thead th {\n        text-align: right;\n    }\n</style>\n<table border=\"1\" class=\"dataframe\">\n  <thead>\n    <tr style=\"text-align: right;\">\n      <th></th>\n      <th>Contratar_Não</th>\n      <th>Contratar_Sim</th>\n    </tr>\n  </thead>\n  <tbody>\n    <tr>\n      <th>0</th>\n      <td>1</td>\n      <td>0</td>\n    </tr>\n    <tr>\n      <th>1</th>\n      <td>1</td>\n      <td>0</td>\n    </tr>\n    <tr>\n      <th>2</th>\n      <td>1</td>\n      <td>0</td>\n    </tr>\n    <tr>\n      <th>3</th>\n      <td>1</td>\n      <td>0</td>\n    </tr>\n    <tr>\n      <th>4</th>\n      <td>1</td>\n      <td>0</td>\n    </tr>\n  </tbody>\n</table>\n</div>"
          },
          "metadata": {},
          "execution_count": 281
        }
      ],
      "source": [
        "y.head()"
      ]
    },
    {
      "cell_type": "code",
      "metadata": {
        "id": "JaYf0ni1bEPt",
        "colab_type": "code",
        "colab": {}
      },
      "source": [
        "# Dividindo os dados em treino e teste\n",
        "from sklearn.model_selection import train_test_split\n",
        "\n",
        "X_train, X_test, y_train, y_test = train_test_split(X, y, test_size=0.3, random_state=42)"
      ],
      "execution_count": 306,
      "outputs": []
    },
    {
      "cell_type": "code",
      "execution_count": 307,
      "metadata": {},
      "outputs": [
        {
          "output_type": "execute_result",
          "data": {
            "text/plain": [
              "      Local de trabalho_Cliente  Local de trabalho_Escritório  \\\n",
              "894                           0                             0   \n",
              "724                           0                             0   \n",
              "494                           1                             0   \n",
              "471                           0                             1   \n",
              "1039                          0                             0   \n",
              "\n",
              "      Local de trabalho_Misto  Pontuação teste_102  Pontuação teste_104  \\\n",
              "894                         1                    0                    0   \n",
              "724                         1                    0                    0   \n",
              "494                         0                    0                    0   \n",
              "471                         0                    0                    0   \n",
              "1039                        1                    0                    0   \n",
              "\n",
              "      Pontuação teste_106  Pontuação teste_107  Pontuação teste_109  \\\n",
              "894                     0                    0                    0   \n",
              "724                     0                    0                    0   \n",
              "494                     0                    0                    0   \n",
              "471                     0                    0                    0   \n",
              "1039                    0                    0                    0   \n",
              "\n",
              "      Pontuação teste_111  Pontuação teste_115  ...  \\\n",
              "894                     0                    0  ...   \n",
              "724                     0                    0  ...   \n",
              "494                     0                    0  ...   \n",
              "471                     0                    0  ...   \n",
              "1039                    0                    0  ...   \n",
              "\n",
              "      Anos com a mesma gerência_8  Anos com a mesma gerência_9  \\\n",
              "894                             0                            0   \n",
              "724                             0                            0   \n",
              "494                             0                            0   \n",
              "471                             0                            0   \n",
              "1039                            1                            0   \n",
              "\n",
              "      Anos com a mesma gerência_10  Anos com a mesma gerência_11  \\\n",
              "894                              0                             0   \n",
              "724                              0                             0   \n",
              "494                              0                             0   \n",
              "471                              0                             0   \n",
              "1039                             0                             0   \n",
              "\n",
              "      Anos com a mesma gerência_12  Anos com a mesma gerência_13  \\\n",
              "894                              1                             0   \n",
              "724                              0                             0   \n",
              "494                              0                             0   \n",
              "471                              0                             0   \n",
              "1039                             0                             0   \n",
              "\n",
              "      Anos com a mesma gerência_14  Anos com a mesma gerência_15  \\\n",
              "894                              0                             0   \n",
              "724                              0                             0   \n",
              "494                              0                             0   \n",
              "471                              0                             0   \n",
              "1039                             0                             0   \n",
              "\n",
              "      Anos com a mesma gerência_16  Anos com a mesma gerência_17  \n",
              "894                              0                             0  \n",
              "724                              0                             0  \n",
              "494                              0                             0  \n",
              "471                              0                             0  \n",
              "1039                             0                             0  \n",
              "\n",
              "[5 rows x 3874 columns]"
            ],
            "text/html": "<div>\n<style scoped>\n    .dataframe tbody tr th:only-of-type {\n        vertical-align: middle;\n    }\n\n    .dataframe tbody tr th {\n        vertical-align: top;\n    }\n\n    .dataframe thead th {\n        text-align: right;\n    }\n</style>\n<table border=\"1\" class=\"dataframe\">\n  <thead>\n    <tr style=\"text-align: right;\">\n      <th></th>\n      <th>Local de trabalho_Cliente</th>\n      <th>Local de trabalho_Escritório</th>\n      <th>Local de trabalho_Misto</th>\n      <th>Pontuação teste_102</th>\n      <th>Pontuação teste_104</th>\n      <th>Pontuação teste_106</th>\n      <th>Pontuação teste_107</th>\n      <th>Pontuação teste_109</th>\n      <th>Pontuação teste_111</th>\n      <th>Pontuação teste_115</th>\n      <th>...</th>\n      <th>Anos com a mesma gerência_8</th>\n      <th>Anos com a mesma gerência_9</th>\n      <th>Anos com a mesma gerência_10</th>\n      <th>Anos com a mesma gerência_11</th>\n      <th>Anos com a mesma gerência_12</th>\n      <th>Anos com a mesma gerência_13</th>\n      <th>Anos com a mesma gerência_14</th>\n      <th>Anos com a mesma gerência_15</th>\n      <th>Anos com a mesma gerência_16</th>\n      <th>Anos com a mesma gerência_17</th>\n    </tr>\n  </thead>\n  <tbody>\n    <tr>\n      <th>894</th>\n      <td>0</td>\n      <td>0</td>\n      <td>1</td>\n      <td>0</td>\n      <td>0</td>\n      <td>0</td>\n      <td>0</td>\n      <td>0</td>\n      <td>0</td>\n      <td>0</td>\n      <td>...</td>\n      <td>0</td>\n      <td>0</td>\n      <td>0</td>\n      <td>0</td>\n      <td>1</td>\n      <td>0</td>\n      <td>0</td>\n      <td>0</td>\n      <td>0</td>\n      <td>0</td>\n    </tr>\n    <tr>\n      <th>724</th>\n      <td>0</td>\n      <td>0</td>\n      <td>1</td>\n      <td>0</td>\n      <td>0</td>\n      <td>0</td>\n      <td>0</td>\n      <td>0</td>\n      <td>0</td>\n      <td>0</td>\n      <td>...</td>\n      <td>0</td>\n      <td>0</td>\n      <td>0</td>\n      <td>0</td>\n      <td>0</td>\n      <td>0</td>\n      <td>0</td>\n      <td>0</td>\n      <td>0</td>\n      <td>0</td>\n    </tr>\n    <tr>\n      <th>494</th>\n      <td>1</td>\n      <td>0</td>\n      <td>0</td>\n      <td>0</td>\n      <td>0</td>\n      <td>0</td>\n      <td>0</td>\n      <td>0</td>\n      <td>0</td>\n      <td>0</td>\n      <td>...</td>\n      <td>0</td>\n      <td>0</td>\n      <td>0</td>\n      <td>0</td>\n      <td>0</td>\n      <td>0</td>\n      <td>0</td>\n      <td>0</td>\n      <td>0</td>\n      <td>0</td>\n    </tr>\n    <tr>\n      <th>471</th>\n      <td>0</td>\n      <td>1</td>\n      <td>0</td>\n      <td>0</td>\n      <td>0</td>\n      <td>0</td>\n      <td>0</td>\n      <td>0</td>\n      <td>0</td>\n      <td>0</td>\n      <td>...</td>\n      <td>0</td>\n      <td>0</td>\n      <td>0</td>\n      <td>0</td>\n      <td>0</td>\n      <td>0</td>\n      <td>0</td>\n      <td>0</td>\n      <td>0</td>\n      <td>0</td>\n    </tr>\n    <tr>\n      <th>1039</th>\n      <td>0</td>\n      <td>0</td>\n      <td>1</td>\n      <td>0</td>\n      <td>0</td>\n      <td>0</td>\n      <td>0</td>\n      <td>0</td>\n      <td>0</td>\n      <td>0</td>\n      <td>...</td>\n      <td>1</td>\n      <td>0</td>\n      <td>0</td>\n      <td>0</td>\n      <td>0</td>\n      <td>0</td>\n      <td>0</td>\n      <td>0</td>\n      <td>0</td>\n      <td>0</td>\n    </tr>\n  </tbody>\n</table>\n<p>5 rows × 3874 columns</p>\n</div>"
          },
          "metadata": {},
          "execution_count": 307
        }
      ],
      "source": [
        "X_train.head()"
      ]
    },
    {
      "cell_type": "code",
      "execution_count": 308,
      "metadata": {},
      "outputs": [],
      "source": [
        "from sklearn.ensemble import RandomForestClassifier\n",
        "\n",
        "model = RandomForestClassifier(random_state=42).fit(X_train, y_train)"
      ]
    },
    {
      "cell_type": "code",
      "execution_count": 309,
      "metadata": {},
      "outputs": [
        {
          "output_type": "stream",
          "name": "stdout",
          "text": [
            "Erro Médio Absoluto: 5.69\n"
          ]
        }
      ],
      "source": [
        "from sklearn.metrics import mean_absolute_error\n",
        "\n",
        "y_pred = model.predict(X_test)\n",
        "print(\"Erro Médio Absoluto: {:.2f}\".format(mean_absolute_error(predict, y_test)))"
      ]
    },
    {
      "cell_type": "code",
      "execution_count": 310,
      "metadata": {},
      "outputs": [
        {
          "output_type": "stream",
          "name": "stdout",
          "text": [
            "A acuracia do modelo de Random Forest e de: 0.8661800486618005\n"
          ]
        }
      ],
      "source": [
        "from sklearn.metrics import accuracy_score\n",
        "\n",
        "accuracy = accuracy_score(y_test, y_pred)\n",
        "print(f'A acuracia do modelo de Random Forest e de:',accuracy)"
      ]
    },
    {
      "cell_type": "code",
      "execution_count": 315,
      "metadata": {},
      "outputs": [
        {
          "output_type": "execute_result",
          "data": {
            "text/plain": [
              "array([[356,   0],\n",
              "       [ 55,   0]], dtype=int64)"
            ]
          },
          "metadata": {},
          "execution_count": 315
        }
      ],
      "source": [
        "# Criando uma matriz de confusao\n",
        "from sklearn.metrics import confusion_matrix\n",
        "\n",
        "confusion_matrix(y_test.values.argmax(axis=1), y_pred.argmax(axis=1))"
      ]
    },
    {
      "cell_type": "code",
      "execution_count": 293,
      "metadata": {},
      "outputs": [
        {
          "output_type": "execute_result",
          "data": {
            "text/plain": [
              "0.4641460234680574"
            ]
          },
          "metadata": {},
          "execution_count": 293
        }
      ],
      "source": [
        "# Metrica de recall f1_score\n",
        "from sklearn.metrics import f1_score\n",
        "\n",
        "f1_score(y_test, y_pred, average='macro')"
      ]
    }
  ]
}